{
  "cells": [
    {
      "cell_type": "markdown",
      "source": [
        "# Importing and Initial values"
      ],
      "metadata": {
        "id": "z2Hm-W-bFMBm"
      }
    },
    {
      "cell_type": "code",
      "source": [
        "import random\n",
        "\n",
        "LOWER = 1\n",
        "UPPER = 100\n",
        "computer_guess = random.randint(LOWER, UPPER)"
      ],
      "metadata": {
        "id": "gMd_g_1BFuMl"
      },
      "execution_count": null,
      "outputs": []
    },
    {
      "cell_type": "markdown",
      "source": [
        "# Function"
      ],
      "metadata": {
        "id": "plUN8XKUF0Tl"
      }
    },
    {
      "cell_type": "code",
      "source": [
        "def attempts_check():\n",
        "  attempts_choice = True\n",
        "  while attempts_choice == True:\n",
        "    try:\n",
        "      attempts_choice = int(input('Please enter your number of attempts (5-10): '))\n",
        "\n",
        "      if attempts_choice > 10 or attempts_choice < 5:\n",
        "        print('---------------- Error -------------------')\n",
        "        print('Please enter your number of attempts (5-10)!')\n",
        "        attempts_choice = True\n",
        "    except:\n",
        "      print('---------------- Error -------------------')\n",
        "      print('Please enter your number of attempts (5-10)!')\n",
        "  return attempts_choice\n",
        "\n",
        "def guess_number(attempts, computer_guess):\n",
        "\n",
        "  for i in range(0, attempts):\n",
        "    user_guess = 0\n",
        "    while user_guess == 0:\n",
        "\n",
        "      try:\n",
        "        user_guess = int(input('Please guess (1-100): '))\n",
        "        if user_guess > 100 or user_guess < 1:\n",
        "          print('---------------- Error -------------------')\n",
        "          print('Please enter a NUMBER (1-100)!')\n",
        "          user_guess = 0\n",
        "      except:\n",
        "        print('---------------- Error -------------------')\n",
        "        print('Please enter a NUMBER (1-100)!')\n",
        "\n",
        "    print(f'**************** {i+1} ****************')\n",
        "    if user_guess == computer_guess:\n",
        "      print('Hoora! You win')\n",
        "      break\n",
        "    else:\n",
        "      print('No')\n",
        "      if user_guess < computer_guess:\n",
        "        print('Your number is smaller')\n",
        "      elif user_guess > computer_guess:\n",
        "        print('Your number is bigger')\n",
        "      print('You have {} turn'.format((attempts-1) - i))\n",
        "\n",
        "  else:\n",
        "    print('You Loose. The number was ' + str(computer_guess))"
      ],
      "metadata": {
        "id": "XNAm_ZN_H1KO"
      },
      "execution_count": null,
      "outputs": []
    },
    {
      "cell_type": "markdown",
      "source": [
        "# Main"
      ],
      "metadata": {
        "id": "CgZJSoC3F6at"
      }
    },
    {
      "cell_type": "code",
      "source": [
        "attempts = attempts_check()\n",
        "print('Your number of attempts = ', attempts)"
      ],
      "metadata": {
        "id": "lC4QzOAvHwEW",
        "outputId": "80d9c7cd-9034-4096-be65-f957d5978b6c",
        "colab": {
          "base_uri": "https://localhost:8080/"
        }
      },
      "execution_count": null,
      "outputs": [
        {
          "output_type": "stream",
          "name": "stdout",
          "text": [
            "Please enter your number of attempts (5-10): bist\n",
            "---------------- Error -------------------\n",
            "Please enter your number of attempts (5-10)!\n",
            "Please enter your number of attempts (5-10): 20\n",
            "---------------- Error -------------------\n",
            "Please enter your number of attempts (5-10)!\n",
            "Please enter your number of attempts (5-10): 7\n",
            "Your number of attempts =  7\n"
          ]
        }
      ]
    },
    {
      "cell_type": "code",
      "source": [
        "guess_number(attempts, computer_guess)"
      ],
      "metadata": {
        "colab": {
          "base_uri": "https://localhost:8080/"
        },
        "id": "i6t8f2hqvp4B",
        "outputId": "ca8595d6-0fbf-41bf-e775-6e8feb5e8461"
      },
      "execution_count": null,
      "outputs": [
        {
          "output_type": "stream",
          "name": "stdout",
          "text": [
            "Please guess (1-100): bist\n",
            "---------------- Error -------------------\n",
            "Please enter a NUMBER (1-100)!\n",
            "Please guess (1-100): 120\n",
            "---------------- Error -------------------\n",
            "Please enter a NUMBER (1-100)!\n",
            "Please guess (1-100): 50\n",
            "**************** 1 ****************\n",
            "No\n",
            "Your number is smaller\n",
            "You have 6 turn\n",
            "Please guess (1-100): 75\n",
            "**************** 2 ****************\n",
            "No\n",
            "Your number is bigger\n",
            "You have 5 turn\n",
            "Please guess (1-100): 63\n",
            "**************** 3 ****************\n",
            "No\n",
            "Your number is bigger\n",
            "You have 4 turn\n",
            "Please guess (1-100): 57\n",
            "**************** 4 ****************\n",
            "No\n",
            "Your number is bigger\n",
            "You have 3 turn\n",
            "Please guess (1-100): 53\n",
            "**************** 5 ****************\n",
            "No\n",
            "Your number is smaller\n",
            "You have 2 turn\n",
            "Please guess (1-100): 55\n",
            "**************** 6 ****************\n",
            "No\n",
            "Your number is bigger\n",
            "You have 1 turn\n",
            "Please guess (1-100): 54\n",
            "**************** 7 ****************\n",
            "Hoora! You win\n"
          ]
        }
      ]
    }
  ],
  "metadata": {
    "colab": {
      "toc_visible": true,
      "provenance": []
    },
    "kernelspec": {
      "display_name": "Python 3",
      "name": "python3"
    }
  },
  "nbformat": 4,
  "nbformat_minor": 0
}