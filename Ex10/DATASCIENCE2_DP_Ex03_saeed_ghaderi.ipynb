{
 "cells": [
  {
   "cell_type": "markdown",
   "metadata": {},
   "source": [
    "# <p style=\"background-color:#3a8bb8; padding:25px; font-family:Georgia ; color:#f3b88c; font-size:150%; text-align:center;  border-radius:10% / 100%;\">Financial market</p>"
   ]
  },
  {
   "cell_type": "markdown",
   "metadata": {},
   "source": [
    "<a id=\"1\"></a>\n",
    "\n",
    "# <p style=\"background-color:#3a8bb8; padding:25px; font-family:Georgia ; color:#f3b88c; font-size:150%; text-align:center;  border-radius:10% / 100%;\">Variables Explanation</p>"
   ]
  },
  {
   "cell_type": "markdown",
   "metadata": {},
   "source": [
    "Here is the meaning of each column:\n",
    "\n",
    "__Variables Table__\n",
    "\n",
    "| Variable Name | Description  |\n",
    "| ------------- | -------------- |\n",
    "| Date | in format: yy-mm-dd |\n",
    "| Open | The opening price of the stock |\n",
    "| High | The high price of that day |\n",
    "| Low | The low price of that day |\n",
    "| Close | The closed price of that day |\n",
    "| Volume | Number of shares traded |\n",
    "| Name | the stock's ticker name |\n"
   ]
  },
  {
   "cell_type": "markdown",
   "metadata": {},
   "source": [
    "<a id=\"2\"></a>\n",
    "# <p style=\"background-color:#3a8bb8; padding:25px; font-family:Georgia ; color:#f3b88c; font-size:150%; text-align:center;  border-radius:10% / 100%;\">Importing Libraries</p>"
   ]
  },
  {
   "cell_type": "code",
   "execution_count": 1,
   "metadata": {},
   "outputs": [],
   "source": [
    "import numpy as np\n",
    "import pandas as pd\n",
    "import matplotlib.pyplot as plt\n",
    "import datetime as dt\n",
    "import seaborn as sns\n",
    "import tensorflow as tf\n",
    "from scipy import stats\n",
    "\n",
    "from sklearn.compose import ColumnTransformer\n",
    "from sklearn.preprocessing import OneHotEncoder\n",
    "from sklearn.preprocessing import MinMaxScaler\n",
    "from sklearn import metrics\n",
    "\n",
    "## Deep Learning\n",
    "from tensorflow.keras.models import Sequential\n",
    "from tensorflow.keras.layers import Dense, LSTM, SimpleRNN, Dropout\n",
    "from tensorflow.keras.callbacks import EarlyStopping\n",
    "from tensorflow.keras.callbacks import ModelCheckpoint"
   ]
  },
  {
   "cell_type": "markdown",
   "metadata": {},
   "source": [
    "<a id=\"3\"></a>\n",
    "# <p style=\"background-color:#3a8bb8; padding:25px; font-family:Georgia ; color:#f3b88c; font-size:150%; text-align:center;  border-radius:10% / 100%;\">Data Loading</p>\n"
   ]
  },
  {
   "cell_type": "code",
   "execution_count": 2,
   "metadata": {},
   "outputs": [
    {
     "data": {
      "text/html": [
       "<div>\n",
       "<style scoped>\n",
       "    .dataframe tbody tr th:only-of-type {\n",
       "        vertical-align: middle;\n",
       "    }\n",
       "\n",
       "    .dataframe tbody tr th {\n",
       "        vertical-align: top;\n",
       "    }\n",
       "\n",
       "    .dataframe thead th {\n",
       "        text-align: right;\n",
       "    }\n",
       "</style>\n",
       "<table border=\"1\" class=\"dataframe\">\n",
       "  <thead>\n",
       "    <tr style=\"text-align: right;\">\n",
       "      <th></th>\n",
       "      <th>Date</th>\n",
       "      <th>Open</th>\n",
       "      <th>High</th>\n",
       "      <th>Low</th>\n",
       "      <th>Close</th>\n",
       "      <th>Volume</th>\n",
       "      <th>Name</th>\n",
       "    </tr>\n",
       "  </thead>\n",
       "  <tbody>\n",
       "    <tr>\n",
       "      <th>0</th>\n",
       "      <td>2006-01-03</td>\n",
       "      <td>57.87</td>\n",
       "      <td>58.11</td>\n",
       "      <td>57.05</td>\n",
       "      <td>57.80</td>\n",
       "      <td>3697500</td>\n",
       "      <td>CAT</td>\n",
       "    </tr>\n",
       "    <tr>\n",
       "      <th>1</th>\n",
       "      <td>2006-01-04</td>\n",
       "      <td>57.95</td>\n",
       "      <td>59.43</td>\n",
       "      <td>57.55</td>\n",
       "      <td>59.27</td>\n",
       "      <td>4577200</td>\n",
       "      <td>CAT</td>\n",
       "    </tr>\n",
       "    <tr>\n",
       "      <th>2</th>\n",
       "      <td>2006-01-05</td>\n",
       "      <td>59.02</td>\n",
       "      <td>59.86</td>\n",
       "      <td>59.00</td>\n",
       "      <td>59.27</td>\n",
       "      <td>4590700</td>\n",
       "      <td>CAT</td>\n",
       "    </tr>\n",
       "    <tr>\n",
       "      <th>3</th>\n",
       "      <td>2006-01-06</td>\n",
       "      <td>59.47</td>\n",
       "      <td>60.76</td>\n",
       "      <td>59.38</td>\n",
       "      <td>60.45</td>\n",
       "      <td>5692300</td>\n",
       "      <td>CAT</td>\n",
       "    </tr>\n",
       "    <tr>\n",
       "      <th>4</th>\n",
       "      <td>2006-01-09</td>\n",
       "      <td>60.45</td>\n",
       "      <td>61.68</td>\n",
       "      <td>60.45</td>\n",
       "      <td>61.55</td>\n",
       "      <td>4409300</td>\n",
       "      <td>CAT</td>\n",
       "    </tr>\n",
       "  </tbody>\n",
       "</table>\n",
       "</div>"
      ],
      "text/plain": [
       "        Date   Open   High    Low  Close   Volume Name\n",
       "0 2006-01-03  57.87  58.11  57.05  57.80  3697500  CAT\n",
       "1 2006-01-04  57.95  59.43  57.55  59.27  4577200  CAT\n",
       "2 2006-01-05  59.02  59.86  59.00  59.27  4590700  CAT\n",
       "3 2006-01-06  59.47  60.76  59.38  60.45  5692300  CAT\n",
       "4 2006-01-09  60.45  61.68  60.45  61.55  4409300  CAT"
      ]
     },
     "execution_count": 2,
     "metadata": {},
     "output_type": "execute_result"
    }
   ],
   "source": [
    "df = pd.read_csv('CAT_2006-01-01_to_2018-01-01.csv', parse_dates=['Date'])\n",
    "df.head()"
   ]
  },
  {
   "cell_type": "code",
   "execution_count": 3,
   "metadata": {},
   "outputs": [
    {
     "name": "stdout",
     "output_type": "stream",
     "text": [
      "<class 'pandas.core.frame.DataFrame'>\n",
      "RangeIndex: 3020 entries, 0 to 3019\n",
      "Data columns (total 7 columns):\n",
      " #   Column  Non-Null Count  Dtype         \n",
      "---  ------  --------------  -----         \n",
      " 0   Date    3020 non-null   datetime64[ns]\n",
      " 1   Open    3019 non-null   float64       \n",
      " 2   High    3019 non-null   float64       \n",
      " 3   Low     3019 non-null   float64       \n",
      " 4   Close   3020 non-null   float64       \n",
      " 5   Volume  3020 non-null   int64         \n",
      " 6   Name    3020 non-null   object        \n",
      "dtypes: datetime64[ns](1), float64(4), int64(1), object(1)\n",
      "memory usage: 165.3+ KB\n"
     ]
    }
   ],
   "source": [
    "df.info()"
   ]
  },
  {
   "cell_type": "markdown",
   "metadata": {},
   "source": [
    "<a id=\"4\"></a>\n",
    "\n",
    "# <p style=\"background-color:#3a8bb8; padding:25px; font-family:Georgia ; color:#f3b88c; font-size:150%; text-align:center;  border-radius:10% / 100%;\">Exploratory Data Analysis (EDA)</p>"
   ]
  },
  {
   "cell_type": "markdown",
   "metadata": {},
   "source": [
    "### __Checking Duplicated Data__\n",
    "<div  dir='rtl' style=\"text-align: justify;text-justify: inter-word;font-family:tahoma;font-size: 17px;\">\n",
    "داده ی تکراری نداریم:\n",
    "</div>"
   ]
  },
  {
   "cell_type": "code",
   "execution_count": 4,
   "metadata": {},
   "outputs": [
    {
     "name": "stdout",
     "output_type": "stream",
     "text": [
      "Number of duplicated data: 0\n"
     ]
    }
   ],
   "source": [
    "## Checking Duplicates\n",
    "print(f\"Number of duplicated data: {df.duplicated().sum()}\")"
   ]
  },
  {
   "cell_type": "code",
   "execution_count": 5,
   "metadata": {},
   "outputs": [
    {
     "data": {
      "text/plain": [
       "Date      0\n",
       "Open      1\n",
       "High      1\n",
       "Low       1\n",
       "Close     0\n",
       "Volume    0\n",
       "Name      0\n",
       "dtype: int64"
      ]
     },
     "execution_count": 5,
     "metadata": {},
     "output_type": "execute_result"
    }
   ],
   "source": [
    "df.isnull().sum()"
   ]
  },
  {
   "cell_type": "code",
   "execution_count": 6,
   "metadata": {},
   "outputs": [],
   "source": [
    "df.dropna(inplace=True)"
   ]
  },
  {
   "cell_type": "code",
   "execution_count": 7,
   "metadata": {},
   "outputs": [
    {
     "data": {
      "text/html": [
       "<div>\n",
       "<style scoped>\n",
       "    .dataframe tbody tr th:only-of-type {\n",
       "        vertical-align: middle;\n",
       "    }\n",
       "\n",
       "    .dataframe tbody tr th {\n",
       "        vertical-align: top;\n",
       "    }\n",
       "\n",
       "    .dataframe thead th {\n",
       "        text-align: right;\n",
       "    }\n",
       "</style>\n",
       "<table border=\"1\" class=\"dataframe\">\n",
       "  <thead>\n",
       "    <tr style=\"text-align: right;\">\n",
       "      <th></th>\n",
       "      <th>count</th>\n",
       "      <th>mean</th>\n",
       "      <th>trim_mean</th>\n",
       "      <th>var</th>\n",
       "      <th>std</th>\n",
       "      <th>skewness</th>\n",
       "      <th>kurtosis</th>\n",
       "      <th>min</th>\n",
       "      <th>25%</th>\n",
       "      <th>50%</th>\n",
       "      <th>75%</th>\n",
       "      <th>max</th>\n",
       "    </tr>\n",
       "  </thead>\n",
       "  <tbody>\n",
       "    <tr>\n",
       "      <th>Date</th>\n",
       "      <td>3019</td>\n",
       "      <td>2011-12-31 22:43:12.381583360</td>\n",
       "      <td>NaN</td>\n",
       "      <td>NaN</td>\n",
       "      <td>NaN</td>\n",
       "      <td>NaN</td>\n",
       "      <td>NaN</td>\n",
       "      <td>2006-01-03 00:00:00</td>\n",
       "      <td>2009-01-01 00:00:00</td>\n",
       "      <td>2011-12-29 00:00:00</td>\n",
       "      <td>2014-12-30 12:00:00</td>\n",
       "      <td>2017-12-29 00:00:00</td>\n",
       "    </tr>\n",
       "    <tr>\n",
       "      <th>Open</th>\n",
       "      <td>3019.0</td>\n",
       "      <td>80.479881</td>\n",
       "      <td>8.092540e+01</td>\n",
       "      <td>4.377506e+02</td>\n",
       "      <td>20.922491</td>\n",
       "      <td>-0.030107</td>\n",
       "      <td>0.741969</td>\n",
       "      <td>22.65</td>\n",
       "      <td>68.445</td>\n",
       "      <td>81.82</td>\n",
       "      <td>93.66</td>\n",
       "      <td>158.05</td>\n",
       "    </tr>\n",
       "    <tr>\n",
       "      <th>High</th>\n",
       "      <td>3019.0</td>\n",
       "      <td>81.30423</td>\n",
       "      <td>8.173803e+01</td>\n",
       "      <td>4.375059e+02</td>\n",
       "      <td>20.916641</td>\n",
       "      <td>-0.023790</td>\n",
       "      <td>0.753779</td>\n",
       "      <td>23.29</td>\n",
       "      <td>69.22</td>\n",
       "      <td>82.58</td>\n",
       "      <td>94.46</td>\n",
       "      <td>158.65</td>\n",
       "    </tr>\n",
       "    <tr>\n",
       "      <th>Low</th>\n",
       "      <td>3019.0</td>\n",
       "      <td>79.56847</td>\n",
       "      <td>8.002736e+01</td>\n",
       "      <td>4.380105e+02</td>\n",
       "      <td>20.928699</td>\n",
       "      <td>-0.036075</td>\n",
       "      <td>0.742605</td>\n",
       "      <td>21.71</td>\n",
       "      <td>67.61</td>\n",
       "      <td>80.76</td>\n",
       "      <td>92.805</td>\n",
       "      <td>157.51</td>\n",
       "    </tr>\n",
       "    <tr>\n",
       "      <th>Close</th>\n",
       "      <td>3019.0</td>\n",
       "      <td>80.469096</td>\n",
       "      <td>8.091084e+01</td>\n",
       "      <td>4.385009e+02</td>\n",
       "      <td>20.940414</td>\n",
       "      <td>-0.025555</td>\n",
       "      <td>0.761708</td>\n",
       "      <td>22.17</td>\n",
       "      <td>68.445</td>\n",
       "      <td>81.76</td>\n",
       "      <td>93.52</td>\n",
       "      <td>158.42</td>\n",
       "    </tr>\n",
       "    <tr>\n",
       "      <th>Volume</th>\n",
       "      <td>3019.0</td>\n",
       "      <td>7048594.649222</td>\n",
       "      <td>6.429042e+06</td>\n",
       "      <td>1.778174e+13</td>\n",
       "      <td>4216840.596534</td>\n",
       "      <td>3.623274</td>\n",
       "      <td>31.551894</td>\n",
       "      <td>177592.0</td>\n",
       "      <td>4462425.5</td>\n",
       "      <td>6030035.0</td>\n",
       "      <td>8464836.5</td>\n",
       "      <td>67806100.0</td>\n",
       "    </tr>\n",
       "  </tbody>\n",
       "</table>\n",
       "</div>"
      ],
      "text/plain": [
       "         count                           mean     trim_mean           var  \\\n",
       "Date      3019  2011-12-31 22:43:12.381583360           NaN           NaN   \n",
       "Open    3019.0                      80.479881  8.092540e+01  4.377506e+02   \n",
       "High    3019.0                       81.30423  8.173803e+01  4.375059e+02   \n",
       "Low     3019.0                       79.56847  8.002736e+01  4.380105e+02   \n",
       "Close   3019.0                      80.469096  8.091084e+01  4.385009e+02   \n",
       "Volume  3019.0                 7048594.649222  6.429042e+06  1.778174e+13   \n",
       "\n",
       "                   std  skewness   kurtosis                  min  \\\n",
       "Date               NaN       NaN        NaN  2006-01-03 00:00:00   \n",
       "Open         20.922491 -0.030107   0.741969                22.65   \n",
       "High         20.916641 -0.023790   0.753779                23.29   \n",
       "Low          20.928699 -0.036075   0.742605                21.71   \n",
       "Close        20.940414 -0.025555   0.761708                22.17   \n",
       "Volume  4216840.596534  3.623274  31.551894             177592.0   \n",
       "\n",
       "                        25%                  50%                  75%  \\\n",
       "Date    2009-01-01 00:00:00  2011-12-29 00:00:00  2014-12-30 12:00:00   \n",
       "Open                 68.445                81.82                93.66   \n",
       "High                  69.22                82.58                94.46   \n",
       "Low                   67.61                80.76               92.805   \n",
       "Close                68.445                81.76                93.52   \n",
       "Volume            4462425.5            6030035.0            8464836.5   \n",
       "\n",
       "                        max  \n",
       "Date    2017-12-29 00:00:00  \n",
       "Open                 158.05  \n",
       "High                 158.65  \n",
       "Low                  157.51  \n",
       "Close                158.42  \n",
       "Volume           67806100.0  "
      ]
     },
     "execution_count": 7,
     "metadata": {},
     "output_type": "execute_result"
    }
   ],
   "source": [
    "def describe_x(df):\n",
    "    statistics = df.describe().T\n",
    "    tm = df.select_dtypes(include=['float', 'int']).aggregate(func= stats.trim_mean, axis= 0, proportiontocut=0.1)\n",
    "    statistics = statistics.assign(trim_mean = tm)\n",
    "    statistics = statistics.assign(var = df.select_dtypes(include=['float', 'int']).var())\n",
    "    statistics = statistics.assign(skewness = df.select_dtypes(include=['float', 'int']).skew())\n",
    "    statistics = statistics.assign(kurtosis = df.select_dtypes(include=['float', 'int']).kurtosis())\n",
    "    \n",
    "    return statistics.loc[:, ['count', 'mean', 'trim_mean', 'var', 'std', 'skewness','kurtosis', 'min', '25%', '50%', '75%', 'max']]\n",
    "\n",
    "describe_x(df)"
   ]
  },
  {
   "cell_type": "code",
   "execution_count": 8,
   "metadata": {},
   "outputs": [
    {
     "data": {
      "text/html": [
       "<div>\n",
       "<style scoped>\n",
       "    .dataframe tbody tr th:only-of-type {\n",
       "        vertical-align: middle;\n",
       "    }\n",
       "\n",
       "    .dataframe tbody tr th {\n",
       "        vertical-align: top;\n",
       "    }\n",
       "\n",
       "    .dataframe thead th {\n",
       "        text-align: right;\n",
       "    }\n",
       "</style>\n",
       "<table border=\"1\" class=\"dataframe\">\n",
       "  <thead>\n",
       "    <tr style=\"text-align: right;\">\n",
       "      <th></th>\n",
       "      <th>Name</th>\n",
       "    </tr>\n",
       "  </thead>\n",
       "  <tbody>\n",
       "    <tr>\n",
       "      <th>count</th>\n",
       "      <td>3019</td>\n",
       "    </tr>\n",
       "    <tr>\n",
       "      <th>unique</th>\n",
       "      <td>1</td>\n",
       "    </tr>\n",
       "    <tr>\n",
       "      <th>top</th>\n",
       "      <td>CAT</td>\n",
       "    </tr>\n",
       "    <tr>\n",
       "      <th>freq</th>\n",
       "      <td>3019</td>\n",
       "    </tr>\n",
       "  </tbody>\n",
       "</table>\n",
       "</div>"
      ],
      "text/plain": [
       "        Name\n",
       "count   3019\n",
       "unique     1\n",
       "top      CAT\n",
       "freq    3019"
      ]
     },
     "execution_count": 8,
     "metadata": {},
     "output_type": "execute_result"
    }
   ],
   "source": [
    "df.describe(include=\"object\")"
   ]
  },
  {
   "cell_type": "code",
   "execution_count": 9,
   "metadata": {},
   "outputs": [
    {
     "data": {
      "text/plain": [
       "Open      0.998575\n",
       "High      0.999334\n",
       "Low       0.999362\n",
       "Close     1.000000\n",
       "Volume   -0.459322\n",
       "Name: Close, dtype: float64"
      ]
     },
     "execution_count": 9,
     "metadata": {},
     "output_type": "execute_result"
    }
   ],
   "source": [
    "cor_arr_delay = df.select_dtypes(include=['float', 'int']).corr()['Close']\n",
    "cor_arr_delay"
   ]
  },
  {
   "cell_type": "code",
   "execution_count": 10,
   "metadata": {},
   "outputs": [
    {
     "data": {
      "image/png": "[encoded data removed]",
      "text/plain": [
       "<Figure size 2000x600 with 1 Axes>"
      ]
     },
     "metadata": {},
     "output_type": "display_data"
    }
   ],
   "source": [
    "plt.figure(figsize=(20,6))\n",
    "plt.plot(df.index, df['Close'], lw=2)\n",
    "plt.xlabel(\"date\")\n",
    "plt.xlabel(\"date\", fontsize=16)\n",
    "plt.ylabel(\"Close price\", fontsize=16)\n",
    "plt.title(\"CAT Closing value\", fontsize=16);"
   ]
  },
  {
   "cell_type": "markdown",
   "metadata": {},
   "source": [
    "<a id=\"5\"></a>\n",
    "\n",
    "# <p style=\"background-color:#3a8bb8; padding:25px; font-family:Georgia ; color:#f3b88c; font-size:150%; text-align:center;  border-radius:10% / 100%;\">Data Preprocessing</p>"
   ]
  },
  {
   "cell_type": "code",
   "execution_count": 11,
   "metadata": {},
   "outputs": [],
   "source": [
    "def load_data(company, start, end):\n",
    "    \"\"\"\n",
    "    Load data for the specified company and date range.\n",
    "\n",
    "    :param company: The company's stock symbol (str)\n",
    "    :param start: The starting date for the data range (str or datetime)\n",
    "    :param end: The ending date for the data range (str or datetime)\n",
    "    :return: A dataframe containing the relevant stock data (pandas.DataFrame)\n",
    "    \"\"\"\n",
    "    dataframe = df.copy()\n",
    "    dataframe = dataframe.loc[dataframe.Name == company, :]\n",
    "    dataframe = dataframe.loc[(dataframe['Date'] > start) & (dataframe['Date'] < end), :]\n",
    "    dataframe = dataframe.rename(columns = {'Closing_Price': 'Close'})\n",
    "    return dataframe"
   ]
  },
  {
   "cell_type": "code",
   "execution_count": 12,
   "metadata": {},
   "outputs": [],
   "source": [
    "COMPANY = 'CAT'\n",
    "START_DATE = dt.datetime(2006,1,3)\n",
    "END_DATE = dt.datetime(2015,12,29)\n",
    "\n",
    "START_DATE_TEST = END_DATE"
   ]
  },
  {
   "cell_type": "code",
   "execution_count": 13,
   "metadata": {},
   "outputs": [],
   "source": [
    "data = load_data(company = COMPANY,\n",
    "                 start = START_DATE,\n",
    "                 end = END_DATE)"
   ]
  },
  {
   "cell_type": "code",
   "execution_count": 14,
   "metadata": {},
   "outputs": [
    {
     "data": {
      "text/html": [
       "<div>\n",
       "<style scoped>\n",
       "    .dataframe tbody tr th:only-of-type {\n",
       "        vertical-align: middle;\n",
       "    }\n",
       "\n",
       "    .dataframe tbody tr th {\n",
       "        vertical-align: top;\n",
       "    }\n",
       "\n",
       "    .dataframe thead th {\n",
       "        text-align: right;\n",
       "    }\n",
       "</style>\n",
       "<table border=\"1\" class=\"dataframe\">\n",
       "  <thead>\n",
       "    <tr style=\"text-align: right;\">\n",
       "      <th></th>\n",
       "      <th>Date</th>\n",
       "      <th>Open</th>\n",
       "      <th>High</th>\n",
       "      <th>Low</th>\n",
       "      <th>Close</th>\n",
       "      <th>Volume</th>\n",
       "      <th>Name</th>\n",
       "    </tr>\n",
       "  </thead>\n",
       "  <tbody>\n",
       "    <tr>\n",
       "      <th>1</th>\n",
       "      <td>2006-01-04</td>\n",
       "      <td>57.95</td>\n",
       "      <td>59.43</td>\n",
       "      <td>57.55</td>\n",
       "      <td>59.27</td>\n",
       "      <td>4577200</td>\n",
       "      <td>CAT</td>\n",
       "    </tr>\n",
       "    <tr>\n",
       "      <th>2</th>\n",
       "      <td>2006-01-05</td>\n",
       "      <td>59.02</td>\n",
       "      <td>59.86</td>\n",
       "      <td>59.00</td>\n",
       "      <td>59.27</td>\n",
       "      <td>4590700</td>\n",
       "      <td>CAT</td>\n",
       "    </tr>\n",
       "    <tr>\n",
       "      <th>3</th>\n",
       "      <td>2006-01-06</td>\n",
       "      <td>59.47</td>\n",
       "      <td>60.76</td>\n",
       "      <td>59.38</td>\n",
       "      <td>60.45</td>\n",
       "      <td>5692300</td>\n",
       "      <td>CAT</td>\n",
       "    </tr>\n",
       "    <tr>\n",
       "      <th>4</th>\n",
       "      <td>2006-01-09</td>\n",
       "      <td>60.45</td>\n",
       "      <td>61.68</td>\n",
       "      <td>60.45</td>\n",
       "      <td>61.55</td>\n",
       "      <td>4409300</td>\n",
       "      <td>CAT</td>\n",
       "    </tr>\n",
       "    <tr>\n",
       "      <th>5</th>\n",
       "      <td>2006-01-10</td>\n",
       "      <td>61.35</td>\n",
       "      <td>61.52</td>\n",
       "      <td>60.64</td>\n",
       "      <td>61.30</td>\n",
       "      <td>3188100</td>\n",
       "      <td>CAT</td>\n",
       "    </tr>\n",
       "  </tbody>\n",
       "</table>\n",
       "</div>"
      ],
      "text/plain": [
       "        Date   Open   High    Low  Close   Volume Name\n",
       "1 2006-01-04  57.95  59.43  57.55  59.27  4577200  CAT\n",
       "2 2006-01-05  59.02  59.86  59.00  59.27  4590700  CAT\n",
       "3 2006-01-06  59.47  60.76  59.38  60.45  5692300  CAT\n",
       "4 2006-01-09  60.45  61.68  60.45  61.55  4409300  CAT\n",
       "5 2006-01-10  61.35  61.52  60.64  61.30  3188100  CAT"
      ]
     },
     "execution_count": 14,
     "metadata": {},
     "output_type": "execute_result"
    }
   ],
   "source": [
    "data.head()"
   ]
  },
  {
   "cell_type": "code",
   "execution_count": 15,
   "metadata": {},
   "outputs": [],
   "source": [
    "# Normalize data\n",
    "scaler = MinMaxScaler(feature_range=(0,1))\n",
    "scaled_data = scaler.fit_transform(data['Close'].values.reshape(-1,1))"
   ]
  },
  {
   "cell_type": "code",
   "execution_count": 16,
   "metadata": {},
   "outputs": [],
   "source": [
    "# Set the number of days used for prediction\n",
    "prediction_days = 60\n",
    "\n",
    "# Initialize empty lists for training data input and output\n",
    "x_train = []\n",
    "y_train = []\n",
    "\n",
    "# Iterate through the scaled data, starting from the prediction_days index\n",
    "for x in range(prediction_days, len(scaled_data)):\n",
    "    # Append the previous 'prediction_days' values to x_train\n",
    "    x_train.append(scaled_data[x - prediction_days:x, 0])\n",
    "    # Append the current value to y_train\n",
    "    y_train.append(scaled_data[x, 0])\n",
    "\n",
    "# Convert the x_train and y_train lists to numpy arrays\n",
    "x_train, y_train = np.array(x_train), np.array(y_train)\n",
    "xt = x_train\n",
    "\n",
    "# Reshape x_train to a 3D array with the appropriate dimensions for the LSTM model\n",
    "x_train = np.reshape(x_train, (x_train.shape[0], x_train.shape[1], 1))"
   ]
  },
  {
   "cell_type": "markdown",
   "metadata": {},
   "source": [
    "<a id=\"6\"></a>\n",
    "\n",
    "# <p style=\"background-color:#3a8bb8; padding:25px; font-family:Georgia ; color:#f3b88c; font-size:150%; text-align:center;  border-radius:10% / 100%;\">Model Building</p>\n"
   ]
  },
  {
   "cell_type": "code",
   "execution_count": 17,
   "metadata": {},
   "outputs": [],
   "source": [
    "def LSTM_model():\n",
    "    \"\"\"\n",
    "    Create and configure an LSTM model for stock price prediction.\n",
    "\n",
    "    :return: The configured LSTM model (keras.Sequential)\n",
    "    \"\"\"\n",
    "\n",
    "    # Initialize a sequential model\n",
    "    model = Sequential()\n",
    "\n",
    "    # Add the first LSTM layer with 50 units, input shape, and return sequences\n",
    "    model.add(LSTM(units=50, return_sequences=True, input_shape=(x_train.shape[1], 1)))\n",
    "    # Add dropout to prevent overfitting\n",
    "    model.add(Dropout(0.2))\n",
    "\n",
    "    # Add a second LSTM layer with 50 units and return sequences\n",
    "    model.add(LSTM(units=50, return_sequences=True))\n",
    "    # Add dropout to prevent overfitting\n",
    "    model.add(Dropout(0.2))\n",
    "\n",
    "    # Add a third LSTM layer with 50 units\n",
    "    model.add(LSTM(units=50))\n",
    "    # Add dropout to prevent overfitting\n",
    "    model.add(Dropout(0.2))\n",
    "\n",
    "    # Add a dense output layer with one unit\n",
    "    model.add(Dense(units=1))\n",
    "\n",
    "    return model"
   ]
  },
  {
   "cell_type": "code",
   "execution_count": 18,
   "metadata": {},
   "outputs": [
    {
     "name": "stderr",
     "output_type": "stream",
     "text": [
      "c:\\Users\\almas\\AppData\\Local\\Programs\\Python\\Python311\\Lib\\site-packages\\keras\\src\\layers\\rnn\\rnn.py:204: UserWarning: Do not pass an `input_shape`/`input_dim` argument to a layer. When using Sequential models, prefer using an `Input(shape)` object as the first layer in the model instead.\n",
      "  super().__init__(**kwargs)\n"
     ]
    },
    {
     "data": {
      "text/html": [
       "<pre style=\"white-space:pre;overflow-x:auto;line-height:normal;font-family:Menlo,'DejaVu Sans Mono',consolas,'Courier New',monospace\"><span style=\"font-weight: bold\">Model: \"sequential\"</span>\n",
       "</pre>\n"
      ],
      "text/plain": [
       "\u001b[1mModel: \"sequential\"\u001b[0m\n"
      ]
     },
     "metadata": {},
     "output_type": "display_data"
    },
    {
     "data": {
      "text/html": [
       "<pre style=\"white-space:pre;overflow-x:auto;line-height:normal;font-family:Menlo,'DejaVu Sans Mono',consolas,'Courier New',monospace\">┏━━━━━━━━━━━━━━━━━━━━━━━━━━━━━━━━━┳━━━━━━━━━━━━━━━━━━━━━━━━┳━━━━━━━━━━━━━━━┓\n",
       "┃<span style=\"font-weight: bold\"> Layer (type)                    </span>┃<span style=\"font-weight: bold\"> Output Shape           </span>┃<span style=\"font-weight: bold\">       Param # </span>┃\n",
       "┡━━━━━━━━━━━━━━━━━━━━━━━━━━━━━━━━━╇━━━━━━━━━━━━━━━━━━━━━━━━╇━━━━━━━━━━━━━━━┩\n",
       "│ lstm (<span style=\"color: #0087ff; text-decoration-color: #0087ff\">LSTM</span>)                     │ (<span style=\"color: #00d7ff; text-decoration-color: #00d7ff\">None</span>, <span style=\"color: #00af00; text-decoration-color: #00af00\">60</span>, <span style=\"color: #00af00; text-decoration-color: #00af00\">50</span>)         │        <span style=\"color: #00af00; text-decoration-color: #00af00\">10,400</span> │\n",
       "├─────────────────────────────────┼────────────────────────┼───────────────┤\n",
       "│ dropout (<span style=\"color: #0087ff; text-decoration-color: #0087ff\">Dropout</span>)               │ (<span style=\"color: #00d7ff; text-decoration-color: #00d7ff\">None</span>, <span style=\"color: #00af00; text-decoration-color: #00af00\">60</span>, <span style=\"color: #00af00; text-decoration-color: #00af00\">50</span>)         │             <span style=\"color: #00af00; text-decoration-color: #00af00\">0</span> │\n",
       "├─────────────────────────────────┼────────────────────────┼───────────────┤\n",
       "│ lstm_1 (<span style=\"color: #0087ff; text-decoration-color: #0087ff\">LSTM</span>)                   │ (<span style=\"color: #00d7ff; text-decoration-color: #00d7ff\">None</span>, <span style=\"color: #00af00; text-decoration-color: #00af00\">60</span>, <span style=\"color: #00af00; text-decoration-color: #00af00\">50</span>)         │        <span style=\"color: #00af00; text-decoration-color: #00af00\">20,200</span> │\n",
       "├─────────────────────────────────┼────────────────────────┼───────────────┤\n",
       "│ dropout_1 (<span style=\"color: #0087ff; text-decoration-color: #0087ff\">Dropout</span>)             │ (<span style=\"color: #00d7ff; text-decoration-color: #00d7ff\">None</span>, <span style=\"color: #00af00; text-decoration-color: #00af00\">60</span>, <span style=\"color: #00af00; text-decoration-color: #00af00\">50</span>)         │             <span style=\"color: #00af00; text-decoration-color: #00af00\">0</span> │\n",
       "├─────────────────────────────────┼────────────────────────┼───────────────┤\n",
       "│ lstm_2 (<span style=\"color: #0087ff; text-decoration-color: #0087ff\">LSTM</span>)                   │ (<span style=\"color: #00d7ff; text-decoration-color: #00d7ff\">None</span>, <span style=\"color: #00af00; text-decoration-color: #00af00\">50</span>)             │        <span style=\"color: #00af00; text-decoration-color: #00af00\">20,200</span> │\n",
       "├─────────────────────────────────┼────────────────────────┼───────────────┤\n",
       "│ dropout_2 (<span style=\"color: #0087ff; text-decoration-color: #0087ff\">Dropout</span>)             │ (<span style=\"color: #00d7ff; text-decoration-color: #00d7ff\">None</span>, <span style=\"color: #00af00; text-decoration-color: #00af00\">50</span>)             │             <span style=\"color: #00af00; text-decoration-color: #00af00\">0</span> │\n",
       "├─────────────────────────────────┼────────────────────────┼───────────────┤\n",
       "│ dense (<span style=\"color: #0087ff; text-decoration-color: #0087ff\">Dense</span>)                   │ (<span style=\"color: #00d7ff; text-decoration-color: #00d7ff\">None</span>, <span style=\"color: #00af00; text-decoration-color: #00af00\">1</span>)              │            <span style=\"color: #00af00; text-decoration-color: #00af00\">51</span> │\n",
       "└─────────────────────────────────┴────────────────────────┴───────────────┘\n",
       "</pre>\n"
      ],
      "text/plain": [
       "┏━━━━━━━━━━━━━━━━━━━━━━━━━━━━━━━━━┳━━━━━━━━━━━━━━━━━━━━━━━━┳━━━━━━━━━━━━━━━┓\n",
       "┃\u001b[1m \u001b[0m\u001b[1mLayer (type)                   \u001b[0m\u001b[1m \u001b[0m┃\u001b[1m \u001b[0m\u001b[1mOutput Shape          \u001b[0m\u001b[1m \u001b[0m┃\u001b[1m \u001b[0m\u001b[1m      Param #\u001b[0m\u001b[1m \u001b[0m┃\n",
       "┡━━━━━━━━━━━━━━━━━━━━━━━━━━━━━━━━━╇━━━━━━━━━━━━━━━━━━━━━━━━╇━━━━━━━━━━━━━━━┩\n",
       "│ lstm (\u001b[38;5;33mLSTM\u001b[0m)                     │ (\u001b[38;5;45mNone\u001b[0m, \u001b[38;5;34m60\u001b[0m, \u001b[38;5;34m50\u001b[0m)         │        \u001b[38;5;34m10,400\u001b[0m │\n",
       "├─────────────────────────────────┼────────────────────────┼───────────────┤\n",
       "│ dropout (\u001b[38;5;33mDropout\u001b[0m)               │ (\u001b[38;5;45mNone\u001b[0m, \u001b[38;5;34m60\u001b[0m, \u001b[38;5;34m50\u001b[0m)         │             \u001b[38;5;34m0\u001b[0m │\n",
       "├─────────────────────────────────┼────────────────────────┼───────────────┤\n",
       "│ lstm_1 (\u001b[38;5;33mLSTM\u001b[0m)                   │ (\u001b[38;5;45mNone\u001b[0m, \u001b[38;5;34m60\u001b[0m, \u001b[38;5;34m50\u001b[0m)         │        \u001b[38;5;34m20,200\u001b[0m │\n",
       "├─────────────────────────────────┼────────────────────────┼───────────────┤\n",
       "│ dropout_1 (\u001b[38;5;33mDropout\u001b[0m)             │ (\u001b[38;5;45mNone\u001b[0m, \u001b[38;5;34m60\u001b[0m, \u001b[38;5;34m50\u001b[0m)         │             \u001b[38;5;34m0\u001b[0m │\n",
       "├─────────────────────────────────┼────────────────────────┼───────────────┤\n",
       "│ lstm_2 (\u001b[38;5;33mLSTM\u001b[0m)                   │ (\u001b[38;5;45mNone\u001b[0m, \u001b[38;5;34m50\u001b[0m)             │        \u001b[38;5;34m20,200\u001b[0m │\n",
       "├─────────────────────────────────┼────────────────────────┼───────────────┤\n",
       "│ dropout_2 (\u001b[38;5;33mDropout\u001b[0m)             │ (\u001b[38;5;45mNone\u001b[0m, \u001b[38;5;34m50\u001b[0m)             │             \u001b[38;5;34m0\u001b[0m │\n",
       "├─────────────────────────────────┼────────────────────────┼───────────────┤\n",
       "│ dense (\u001b[38;5;33mDense\u001b[0m)                   │ (\u001b[38;5;45mNone\u001b[0m, \u001b[38;5;34m1\u001b[0m)              │            \u001b[38;5;34m51\u001b[0m │\n",
       "└─────────────────────────────────┴────────────────────────┴───────────────┘\n"
      ]
     },
     "metadata": {},
     "output_type": "display_data"
    },
    {
     "data": {
      "text/html": [
       "<pre style=\"white-space:pre;overflow-x:auto;line-height:normal;font-family:Menlo,'DejaVu Sans Mono',consolas,'Courier New',monospace\"><span style=\"font-weight: bold\"> Total params: </span><span style=\"color: #00af00; text-decoration-color: #00af00\">50,851</span> (198.64 KB)\n",
       "</pre>\n"
      ],
      "text/plain": [
       "\u001b[1m Total params: \u001b[0m\u001b[38;5;34m50,851\u001b[0m (198.64 KB)\n"
      ]
     },
     "metadata": {},
     "output_type": "display_data"
    },
    {
     "data": {
      "text/html": [
       "<pre style=\"white-space:pre;overflow-x:auto;line-height:normal;font-family:Menlo,'DejaVu Sans Mono',consolas,'Courier New',monospace\"><span style=\"font-weight: bold\"> Trainable params: </span><span style=\"color: #00af00; text-decoration-color: #00af00\">50,851</span> (198.64 KB)\n",
       "</pre>\n"
      ],
      "text/plain": [
       "\u001b[1m Trainable params: \u001b[0m\u001b[38;5;34m50,851\u001b[0m (198.64 KB)\n"
      ]
     },
     "metadata": {},
     "output_type": "display_data"
    },
    {
     "data": {
      "text/html": [
       "<pre style=\"white-space:pre;overflow-x:auto;line-height:normal;font-family:Menlo,'DejaVu Sans Mono',consolas,'Courier New',monospace\"><span style=\"font-weight: bold\"> Non-trainable params: </span><span style=\"color: #00af00; text-decoration-color: #00af00\">0</span> (0.00 B)\n",
       "</pre>\n"
      ],
      "text/plain": [
       "\u001b[1m Non-trainable params: \u001b[0m\u001b[38;5;34m0\u001b[0m (0.00 B)\n"
      ]
     },
     "metadata": {},
     "output_type": "display_data"
    }
   ],
   "source": [
    "model = LSTM_model()\n",
    "model.summary()\n",
    "model.compile(\n",
    "    optimizer='adam', \n",
    "    loss='mean_squared_error'\n",
    ")"
   ]
  },
  {
   "cell_type": "code",
   "execution_count": 19,
   "metadata": {},
   "outputs": [
    {
     "name": "stdout",
     "output_type": "stream",
     "text": [
      "Epoch 1/25\n",
      "\u001b[1m77/77\u001b[0m \u001b[32m━━━━━━━━━━━━━━━━━━━━\u001b[0m\u001b[37m\u001b[0m \u001b[1m4s\u001b[0m 22ms/step - loss: 0.0696\n",
      "Epoch 2/25\n",
      "\u001b[1m 7/77\u001b[0m \u001b[32m━\u001b[0m\u001b[37m━━━━━━━━━━━━━━━━━━━\u001b[0m \u001b[1m1s\u001b[0m 23ms/step - loss: 0.0056"
     ]
    },
    {
     "name": "stderr",
     "output_type": "stream",
     "text": [
      "c:\\Users\\almas\\AppData\\Local\\Programs\\Python\\Python311\\Lib\\site-packages\\keras\\src\\callbacks\\model_checkpoint.py:206: UserWarning: Can save best model only with val_loss available, skipping.\n",
      "  self._save_model(epoch=epoch, batch=None, logs=logs)\n"
     ]
    },
    {
     "name": "stdout",
     "output_type": "stream",
     "text": [
      "\u001b[1m77/77\u001b[0m \u001b[32m━━━━━━━━━━━━━━━━━━━━\u001b[0m\u001b[37m\u001b[0m \u001b[1m2s\u001b[0m 23ms/step - loss: 0.0055\n",
      "Epoch 3/25\n",
      "\u001b[1m77/77\u001b[0m \u001b[32m━━━━━━━━━━━━━━━━━━━━\u001b[0m\u001b[37m\u001b[0m \u001b[1m2s\u001b[0m 23ms/step - loss: 0.0053\n",
      "Epoch 4/25\n",
      "\u001b[1m77/77\u001b[0m \u001b[32m━━━━━━━━━━━━━━━━━━━━\u001b[0m\u001b[37m\u001b[0m \u001b[1m2s\u001b[0m 23ms/step - loss: 0.0045\n",
      "Epoch 5/25\n",
      "\u001b[1m77/77\u001b[0m \u001b[32m━━━━━━━━━━━━━━━━━━━━\u001b[0m\u001b[37m\u001b[0m \u001b[1m2s\u001b[0m 22ms/step - loss: 0.0050\n",
      "Epoch 6/25\n",
      "\u001b[1m77/77\u001b[0m \u001b[32m━━━━━━━━━━━━━━━━━━━━\u001b[0m\u001b[37m\u001b[0m \u001b[1m2s\u001b[0m 24ms/step - loss: 0.0043\n",
      "Epoch 7/25\n",
      "\u001b[1m77/77\u001b[0m \u001b[32m━━━━━━━━━━━━━━━━━━━━\u001b[0m\u001b[37m\u001b[0m \u001b[1m2s\u001b[0m 23ms/step - loss: 0.0042\n",
      "Epoch 8/25\n",
      "\u001b[1m77/77\u001b[0m \u001b[32m━━━━━━━━━━━━━━━━━━━━\u001b[0m\u001b[37m\u001b[0m \u001b[1m2s\u001b[0m 23ms/step - loss: 0.0043\n",
      "Epoch 9/25\n",
      "\u001b[1m77/77\u001b[0m \u001b[32m━━━━━━━━━━━━━━━━━━━━\u001b[0m\u001b[37m\u001b[0m \u001b[1m2s\u001b[0m 22ms/step - loss: 0.0039\n",
      "Epoch 10/25\n",
      "\u001b[1m77/77\u001b[0m \u001b[32m━━━━━━━━━━━━━━━━━━━━\u001b[0m\u001b[37m\u001b[0m \u001b[1m2s\u001b[0m 24ms/step - loss: 0.0035\n",
      "Epoch 11/25\n",
      "\u001b[1m77/77\u001b[0m \u001b[32m━━━━━━━━━━━━━━━━━━━━\u001b[0m\u001b[37m\u001b[0m \u001b[1m2s\u001b[0m 23ms/step - loss: 0.0036\n",
      "Epoch 12/25\n",
      "\u001b[1m77/77\u001b[0m \u001b[32m━━━━━━━━━━━━━━━━━━━━\u001b[0m\u001b[37m\u001b[0m \u001b[1m2s\u001b[0m 23ms/step - loss: 0.0033\n",
      "Epoch 13/25\n",
      "\u001b[1m77/77\u001b[0m \u001b[32m━━━━━━━━━━━━━━━━━━━━\u001b[0m\u001b[37m\u001b[0m \u001b[1m2s\u001b[0m 23ms/step - loss: 0.0037\n",
      "Epoch 14/25\n",
      "\u001b[1m77/77\u001b[0m \u001b[32m━━━━━━━━━━━━━━━━━━━━\u001b[0m\u001b[37m\u001b[0m \u001b[1m2s\u001b[0m 22ms/step - loss: 0.0035\n",
      "Epoch 15/25\n",
      "\u001b[1m77/77\u001b[0m \u001b[32m━━━━━━━━━━━━━━━━━━━━\u001b[0m\u001b[37m\u001b[0m \u001b[1m2s\u001b[0m 23ms/step - loss: 0.0030\n",
      "Epoch 16/25\n",
      "\u001b[1m77/77\u001b[0m \u001b[32m━━━━━━━━━━━━━━━━━━━━\u001b[0m\u001b[37m\u001b[0m \u001b[1m2s\u001b[0m 23ms/step - loss: 0.0030\n",
      "Epoch 17/25\n",
      "\u001b[1m77/77\u001b[0m \u001b[32m━━━━━━━━━━━━━━━━━━━━\u001b[0m\u001b[37m\u001b[0m \u001b[1m2s\u001b[0m 23ms/step - loss: 0.0029\n",
      "Epoch 18/25\n",
      "\u001b[1m77/77\u001b[0m \u001b[32m━━━━━━━━━━━━━━━━━━━━\u001b[0m\u001b[37m\u001b[0m \u001b[1m2s\u001b[0m 23ms/step - loss: 0.0029\n",
      "Epoch 19/25\n",
      "\u001b[1m77/77\u001b[0m \u001b[32m━━━━━━━━━━━━━━━━━━━━\u001b[0m\u001b[37m\u001b[0m \u001b[1m2s\u001b[0m 23ms/step - loss: 0.0027\n",
      "Epoch 20/25\n",
      "\u001b[1m77/77\u001b[0m \u001b[32m━━━━━━━━━━━━━━━━━━━━\u001b[0m\u001b[37m\u001b[0m \u001b[1m2s\u001b[0m 23ms/step - loss: 0.0026\n",
      "Epoch 21/25\n",
      "\u001b[1m77/77\u001b[0m \u001b[32m━━━━━━━━━━━━━━━━━━━━\u001b[0m\u001b[37m\u001b[0m \u001b[1m2s\u001b[0m 22ms/step - loss: 0.0027\n",
      "Epoch 22/25\n",
      "\u001b[1m77/77\u001b[0m \u001b[32m━━━━━━━━━━━━━━━━━━━━\u001b[0m\u001b[37m\u001b[0m \u001b[1m2s\u001b[0m 22ms/step - loss: 0.0025\n",
      "Epoch 23/25\n",
      "\u001b[1m77/77\u001b[0m \u001b[32m━━━━━━━━━━━━━━━━━━━━\u001b[0m\u001b[37m\u001b[0m \u001b[1m2s\u001b[0m 22ms/step - loss: 0.0023\n",
      "Epoch 24/25\n",
      "\u001b[1m77/77\u001b[0m \u001b[32m━━━━━━━━━━━━━━━━━━━━\u001b[0m\u001b[37m\u001b[0m \u001b[1m2s\u001b[0m 22ms/step - loss: 0.0024\n",
      "Epoch 25/25\n",
      "\u001b[1m77/77\u001b[0m \u001b[32m━━━━━━━━━━━━━━━━━━━━\u001b[0m\u001b[37m\u001b[0m \u001b[1m2s\u001b[0m 23ms/step - loss: 0.0022\n"
     ]
    },
    {
     "data": {
      "text/plain": [
       "<keras.src.callbacks.history.History at 0x20b1c93ba50>"
      ]
     },
     "execution_count": 19,
     "metadata": {},
     "output_type": "execute_result"
    }
   ],
   "source": [
    "# Define callbacks\n",
    "\n",
    "# Save weights only for best model\n",
    "checkpointer = ModelCheckpoint(\n",
    "    filepath = 'weights_best.keras', \n",
    "    verbose = 2, \n",
    "    save_best_only = True\n",
    ")\n",
    "\n",
    "model.fit(\n",
    "    x_train, \n",
    "    y_train, \n",
    "    epochs=25, \n",
    "    batch_size = 32,\n",
    "    callbacks = [checkpointer]\n",
    ")"
   ]
  },
  {
   "cell_type": "code",
   "execution_count": 20,
   "metadata": {},
   "outputs": [],
   "source": [
    "# Load test data for the specified company and date range\n",
    "test_data = load_data(\n",
    "    company=COMPANY,\n",
    "    start=START_DATE_TEST,\n",
    "    end=dt.datetime.now()\n",
    ")\n",
    "\n",
    "# Extract the actual closing prices from the test data\n",
    "actual_prices = test_data['Close'].values\n",
    "\n",
    "# Concatenate the training and test data along the 'Close' column\n",
    "total_dataset = pd.concat((data['Close'], test_data['Close']), axis=0)\n",
    "\n",
    "# Extract the relevant portion of the dataset for model inputs\n",
    "model_inputs = total_dataset[len(total_dataset) - len(test_data) - prediction_days:].values\n",
    "\n",
    "# Reshape the model inputs to a 2D array with a single column\n",
    "model_inputs = model_inputs.reshape(-1, 1)\n",
    "\n",
    "# Apply the same scaling used for training data to the model inputs\n",
    "model_inputs = scaler.transform(model_inputs)\n"
   ]
  },
  {
   "cell_type": "code",
   "execution_count": 21,
   "metadata": {},
   "outputs": [
    {
     "name": "stdout",
     "output_type": "stream",
     "text": [
      "\u001b[1m16/16\u001b[0m \u001b[32m━━━━━━━━━━━━━━━━━━━━\u001b[0m\u001b[37m\u001b[0m \u001b[1m1s\u001b[0m 23ms/step\n"
     ]
    }
   ],
   "source": [
    "# Initialize an empty list for test data input\n",
    "x_test = []\n",
    "\n",
    "# Iterate through the model inputs, starting from the prediction_days index\n",
    "for x in range(prediction_days, len(model_inputs)):\n",
    "    # Append the previous 'prediction_days' values to x_test\n",
    "    x_test.append(model_inputs[x-prediction_days:x, 0])\n",
    "\n",
    "# Convert the x_test list to a numpy array\n",
    "x_test = np.array(x_test)\n",
    "xte = x_test\n",
    "\n",
    "# Reshape x_test to a 3D array with the appropriate dimensions for the LSTM model\n",
    "x_test = np.reshape(x_test, (x_test.shape[0], x_test.shape[1], 1))\n",
    "\n",
    "# Generate price predictions using the LSTM model\n",
    "predicted_prices = model.predict(x_test)\n",
    "\n",
    "# Invert the scaling applied to the predicted prices to obtain actual values\n",
    "predicted_prices = scaler.inverse_transform(predicted_prices)\n"
   ]
  },
  {
   "cell_type": "code",
   "execution_count": 22,
   "metadata": {},
   "outputs": [
    {
     "data": {
      "image/png": "[encoded data removed]",
      "text/plain": [
       "<Figure size 640x480 with 1 Axes>"
      ]
     },
     "metadata": {},
     "output_type": "display_data"
    }
   ],
   "source": [
    "# Plot the actual prices using a black line\n",
    "plt.plot(actual_prices, color='black', label=f\"Actual {COMPANY} price\")\n",
    "\n",
    "# Plot the predicted prices using a green line\n",
    "plt.plot(predicted_prices, color='green', label=f\"Predicted {COMPANY} price\")\n",
    "\n",
    "# Set the title of the plot using the company name\n",
    "plt.title(f\"{COMPANY} share price\")\n",
    "\n",
    "# Set the x-axis label as 'time'\n",
    "plt.xlabel(\"time\")\n",
    "\n",
    "# Set the y-axis label using the company name\n",
    "plt.ylabel(f\"{COMPANY} share price\")\n",
    "\n",
    "# Display a legend to differentiate the actual and predicted prices\n",
    "plt.legend()\n",
    "\n",
    "# Show the plot on the screen\n",
    "plt.show()"
   ]
  },
  {
   "cell_type": "code",
   "execution_count": 23,
   "metadata": {},
   "outputs": [
    {
     "name": "stdout",
     "output_type": "stream",
     "text": [
      "\u001b[1m1/1\u001b[0m \u001b[32m━━━━━━━━━━━━━━━━━━━━\u001b[0m\u001b[37m\u001b[0m \u001b[1m0s\u001b[0m 238ms/step\n",
      "Prediction: 149.11622619628906\n"
     ]
    }
   ],
   "source": [
    "# Extract the last 'prediction_days' values from the model inputs\n",
    "real_data = [model_inputs[len(model_inputs) + 1 - prediction_days:len(model_inputs + 1), 0]]\n",
    "\n",
    "# Convert the real_data list to a numpy array\n",
    "real_data = np.array(real_data)\n",
    "\n",
    "# Reshape real_data to a 3D array with the appropriate dimensions for the LSTM model\n",
    "real_data = np.reshape(real_data, (real_data.shape[0], real_data.shape[1], 1))\n",
    "\n",
    "# Generate a prediction using the LSTM model with the real_data input\n",
    "prediction = model.predict(real_data)\n",
    "\n",
    "# Invert the scaling applied to the prediction to obtain the actual value\n",
    "prediction = scaler.inverse_transform(prediction)\n",
    "\n",
    "# Print the prediction result to the console\n",
    "print(f\"Prediction: {prediction[0][0]}\")"
   ]
  }
 ],
 "metadata": {
  "kernelspec": {
   "display_name": "base",
   "language": "python",
   "name": "python3"
  },
  "language_info": {
   "codemirror_mode": {
    "name": "ipython",
    "version": 3
   },
   "file_extension": ".py",
   "mimetype": "text/x-python",
   "name": "python",
   "nbconvert_exporter": "python",
   "pygments_lexer": "ipython3",
   "version": "3.11.4"
  }
 },
 "nbformat": 4,
 "nbformat_minor": 2
}
