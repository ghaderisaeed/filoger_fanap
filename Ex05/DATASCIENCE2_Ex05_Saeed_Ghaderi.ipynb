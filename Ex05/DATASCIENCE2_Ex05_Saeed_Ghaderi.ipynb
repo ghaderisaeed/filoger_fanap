{
 "cells": [
  {
   "cell_type": "markdown",
   "id": "b644d56b",
   "metadata": {},
   "source": [
    "# <p style=\"background-color:#11b5bf; font-family:Georgia ; color:#ffca08; font-size:150%; text-align:center;  border-radius:10% / 50%;\">Marketing A/B Testing</p>\n",
    "\n",
    "<img src=\"Chi-Square-Test.jpeg\" alt=\"flight\" style=\"width:50%; border-radius: 50px;  display: block; margin-left: auto; margin-right: auto;\" >"
   ]
  },
  {
   "cell_type": "markdown",
   "id": "fd462fd6",
   "metadata": {},
   "source": [
    "# <h1 dir='rtl' style= \"margin-right: 20px ; color:#0f75bd\">1) درباره مجموعه داده</h1>\n",
    "\n",
    "<div dir='rtl'  style= \"font-size:110%; margin-right: 20px\">\n",
    "\n",
    "*  شرکت‌های بازاریابی برای اجرای کمپین‌های موفق با چالش‌های متعددی روبرو هستند. پیچیدگی بازار و تنوع گزینه‌های موجود، انتخاب بهترین استراتژی را دشوار می‌کند. به همین دلیل، تست‌های A/B به عنوان روشی کارآمد برای آزمایش و مقایسه‌ی نسخه‌های مختلف یک کمپین، به طور گسترده مورد استفاده قرار می‌گیرند.\n",
    "\n",
    "* در تست‌های A/B، دو یا چند نسخه از یک متغیر (مانند صفحه وب، عنصر صفحه، بنر و غیره) به طور همزمان به بخش‌های مختلف مخاطبان نمایش داده می‌شود. سپس، با مقایسه‌ی عملکرد هر نسخه، می‌توان به طور دقیق مشخص کرد که کدام نسخه بیشترین تأثیر را بر معیارهای مورد نظر کسب و کار (مانند نرخ کلیک، نرخ خرید و غیره) گذاشته است.\n",
    "\n",
    "* شرکت‌های بازاریابی با استفاده از تست‌های A/B به دنبال پاسخ به دو سوال کلیدی هستند:<br>\n",
    "1- آیا کمپین مورد نظر موفق خواهد بود؟<br>\n",
    "2- در صورت موفقیت کمپین، چه میزان از این موفقیت را می‌توان به تبلیغات نسبت داد؟<br>\n",
    "برای پاسخ به سوال دوم، معمولاً یک گروه آزمایشی در نظر گرفته می‌شود که در معرض تبلیغات قرار می‌گیرند. در مقابل، گروه کنترلی نیز وجود دارد که به جای تبلیغات، یک پیام خدمات عمومی (PSA) یا هیچ محتوایی را مشاهده نمی‌کنند.\n",
    "\n",
    "* پس از جمع‌آوری داده‌ها از گروه‌های آزمایشی و کنترلی، می‌توان با تجزیه و تحلیل آن‌ها به نتایج زیر دست یافت:<br> میزان موفقیت کمپین: با مقایسه‌ی نرخ کلیک، خرید و سایر معیارها در دو گروه آزمایشی و کنترلی، می‌توان به طور دقیق میزان موفقیت کمپین را تعیین کرد.<br>\n",
    "تاثیر تبلیغات: با مقایسه‌ی عملکرد گروه‌های آزمایشی و کنترلی، می‌توان مشخص کرد که چه میزان از موفقیت کمپین را می‌توان به تبلیغات نسبت داد.<br>\n",
    "معناداری آماری نتایج: با استفاده از روش‌های آماری مانند تست AB و  آیا می‌توان تفاوت معناداری بین گروه‌ها از نظر آماری مشاهده کرد یا خیر.\n",
    "\n",
    "* تست‌های A/B به عنوان یکی از پرکاربردترین آزمون‌ها در علم داده، برای مقایسه‌ی دو گروه یا ویژگی مختلف (مانند A و B) و تعیین وجود تفاوت بین آن‌ها به کار می‌رود.\n",
    "در این روش، با استفاده از روش‌های آماری chi-square، T-test به بررسی یک باور یا ادعا (فرضیه) پرداخته می‌شود. در مورد تست‌های AB، هدف اصلی از آزمون فرضیه، نشان دادن این است که آیا تفاوت‌های مشاهده شده بین دو گروه تصادفی هستند یا خیر.\n",
    "اگر p-value < 0.05 باشد، می‌توان نتیجه گرفت که بین دو گروه از نظر نسبت‌ها تفاوت معناداری وجود دارد.\n",
    "\n",
    "* مجموعه داده ضمیمه شده، اطلاعات مربوط به کمپین تبلیغاتی یک فروشگاه اینترنتی را ارائه می‌دهد. هدف این بررسی، تحلیل داده‌ها و تعیین تاثیر مشاهده تبلیغات بر احتمال خرید کاربران از فروشگاه است.\n",
    "در این پروژه، برنامه ریزی شده است تا اثربخشی یک کمپین تبلیغاتی را بررسی کند و تعیین کند که آیا این کمپین منجر به افزایش تبدیل فروش‌ها یا اهداف دیگر شده است یا خیر. سپس، با استفاده از روش‌های آماری، مانند تستAB ، می‌خواهیم تعیین کنیم که آیا تفاوت به دست آمده از نظر آماری و عملی معنادار است یا خیر.\n",
    "\n",
    "</div>"
   ]
  },
  {
   "cell_type": "markdown",
   "id": "f2d89949",
   "metadata": {},
   "source": [
    "# <h1 dir='rtl' style= \"margin-right: 20px ; color:#0f75bd\">2) فراخوانی کتابخانه‌های مورد نیاز</h1>"
   ]
  },
  {
   "cell_type": "code",
   "execution_count": 1,
   "id": "5428c233",
   "metadata": {},
   "outputs": [],
   "source": [
    "import warnings\n",
    "warnings.filterwarnings(\"ignore\")\n",
    "\n",
    "import random\n",
    "import numpy as np\n",
    "import pandas as pd\n",
    "import matplotlib.pyplot as plt\n",
    "import seaborn as sns\n",
    "# sns.set()\n",
    "from scipy import stats\n",
    "from scipy.stats import ttest_ind, shapiro\n",
    "%matplotlib inline"
   ]
  },
  {
   "cell_type": "markdown",
   "id": "5739f91f",
   "metadata": {},
   "source": [
    "# <h1 dir='rtl' style= \"margin-right: 20px ; color:#0f75bd\">3) خواندن مجموعه داده</h1>\n",
    "\n",
    "<div dir='rtl'  style= \"font-size:110%; margin-right: 20px\">\n",
    "\n",
    "*  ابتدا مجموعه داده را با استفاده از کتابخانه pandas می‌خوانیم:\n",
    "\n",
    "</div>"
   ]
  },
  {
   "cell_type": "code",
   "execution_count": 2,
   "id": "0e3306d0",
   "metadata": {
    "execution": {
     "iopub.execute_input": "2023-08-02T20:42:35.837359Z",
     "iopub.status.busy": "2023-08-02T20:42:35.836729Z",
     "iopub.status.idle": "2023-08-02T20:42:37.267854Z",
     "shell.execute_reply": "2023-08-02T20:42:37.266618Z"
    },
    "papermill": {
     "duration": 1.466075,
     "end_time": "2023-08-02T20:42:37.270843",
     "exception": false,
     "start_time": "2023-08-02T20:42:35.804768",
     "status": "completed"
    },
    "tags": []
   },
   "outputs": [
    {
     "data": {
      "text/html": [
       "<div>\n",
       "<style scoped>\n",
       "    .dataframe tbody tr th:only-of-type {\n",
       "        vertical-align: middle;\n",
       "    }\n",
       "\n",
       "    .dataframe tbody tr th {\n",
       "        vertical-align: top;\n",
       "    }\n",
       "\n",
       "    .dataframe thead th {\n",
       "        text-align: right;\n",
       "    }\n",
       "</style>\n",
       "<table border=\"1\" class=\"dataframe\">\n",
       "  <thead>\n",
       "    <tr style=\"text-align: right;\">\n",
       "      <th></th>\n",
       "      <th>Unnamed: 0</th>\n",
       "      <th>user id</th>\n",
       "      <th>test group</th>\n",
       "      <th>converted</th>\n",
       "      <th>total ads</th>\n",
       "      <th>most ads day</th>\n",
       "      <th>most ads hour</th>\n",
       "    </tr>\n",
       "  </thead>\n",
       "  <tbody>\n",
       "    <tr>\n",
       "      <th>0</th>\n",
       "      <td>0</td>\n",
       "      <td>1069124</td>\n",
       "      <td>ad</td>\n",
       "      <td>False</td>\n",
       "      <td>130</td>\n",
       "      <td>Monday</td>\n",
       "      <td>20</td>\n",
       "    </tr>\n",
       "    <tr>\n",
       "      <th>1</th>\n",
       "      <td>1</td>\n",
       "      <td>1119715</td>\n",
       "      <td>ad</td>\n",
       "      <td>False</td>\n",
       "      <td>93</td>\n",
       "      <td>Tuesday</td>\n",
       "      <td>22</td>\n",
       "    </tr>\n",
       "    <tr>\n",
       "      <th>2</th>\n",
       "      <td>2</td>\n",
       "      <td>1144181</td>\n",
       "      <td>ad</td>\n",
       "      <td>False</td>\n",
       "      <td>21</td>\n",
       "      <td>Tuesday</td>\n",
       "      <td>18</td>\n",
       "    </tr>\n",
       "    <tr>\n",
       "      <th>3</th>\n",
       "      <td>3</td>\n",
       "      <td>1435133</td>\n",
       "      <td>ad</td>\n",
       "      <td>False</td>\n",
       "      <td>355</td>\n",
       "      <td>Tuesday</td>\n",
       "      <td>10</td>\n",
       "    </tr>\n",
       "    <tr>\n",
       "      <th>4</th>\n",
       "      <td>4</td>\n",
       "      <td>1015700</td>\n",
       "      <td>ad</td>\n",
       "      <td>False</td>\n",
       "      <td>276</td>\n",
       "      <td>Friday</td>\n",
       "      <td>14</td>\n",
       "    </tr>\n",
       "  </tbody>\n",
       "</table>\n",
       "</div>"
      ],
      "text/plain": [
       "   Unnamed: 0  user id test group  converted  total ads most ads day  \\\n",
       "0           0  1069124         ad      False        130       Monday   \n",
       "1           1  1119715         ad      False         93      Tuesday   \n",
       "2           2  1144181         ad      False         21      Tuesday   \n",
       "3           3  1435133         ad      False        355      Tuesday   \n",
       "4           4  1015700         ad      False        276       Friday   \n",
       "\n",
       "   most ads hour  \n",
       "0             20  \n",
       "1             22  \n",
       "2             18  \n",
       "3             10  \n",
       "4             14  "
      ]
     },
     "execution_count": 2,
     "metadata": {},
     "output_type": "execute_result"
    }
   ],
   "source": [
    "# Read dataset\n",
    "df = pd.read_csv('marketing_AB.csv')\n",
    "df.head()"
   ]
  },
  {
   "cell_type": "code",
   "execution_count": 3,
   "id": "ec18e1d2",
   "metadata": {},
   "outputs": [
    {
     "name": "stdout",
     "output_type": "stream",
     "text": [
      "<class 'pandas.core.frame.DataFrame'>\n",
      "RangeIndex: 588101 entries, 0 to 588100\n",
      "Data columns (total 7 columns):\n",
      " #   Column         Non-Null Count   Dtype \n",
      "---  ------         --------------   ----- \n",
      " 0   Unnamed: 0     588101 non-null  int64 \n",
      " 1   user id        588101 non-null  int64 \n",
      " 2   test group     588101 non-null  object\n",
      " 3   converted      588101 non-null  bool  \n",
      " 4   total ads      588101 non-null  int64 \n",
      " 5   most ads day   588101 non-null  object\n",
      " 6   most ads hour  588101 non-null  int64 \n",
      "dtypes: bool(1), int64(4), object(2)\n",
      "memory usage: 27.5+ MB\n"
     ]
    }
   ],
   "source": [
    "# Display a concise summary of the dataframe.\n",
    "df.info()"
   ]
  },
  {
   "cell_type": "markdown",
   "id": "d1a52104",
   "metadata": {
    "papermill": {
     "duration": 0.029544,
     "end_time": "2023-08-02T20:42:37.331891",
     "exception": false,
     "start_time": "2023-08-02T20:42:37.302347",
     "status": "completed"
    },
    "tags": []
   },
   "source": [
    "          \n",
    "# <h1 dir='rtl' style= \"margin-right: 20px ;  color:#0f75bd\">4) مشخصات مجموعه داده </h1>\n",
    "<!DOCTYPE html>\n",
    "<html>\n",
    "<head>\n",
    "<style>\n",
    "  table {\n",
    "      width: 90%;\n",
    "      border-collapse: collapse;\n",
    "      background-color:#124559;\n",
    "      margin-left: 50px;\n",
    "  }\n",
    "  th, td {\n",
    "      border: 1px solid;\n",
    "      background-color:#124559;\n",
    "      border: 1px solid #ddd;\n",
    "      padding: 8px;\n",
    "      text-align: center;\n",
    "      word-wrap: break-word;\n",
    "      color:#eff6e0;\n",
    "      font-size:110%\n",
    "  }\n",
    "</style>\n",
    "</head>\n",
    "<body>\n",
    "\n",
    "<table dir='rtl'>\n",
    "  <tr>\n",
    "    <th>ردیف</th>\n",
    "    <th>متغیر</th>\n",
    "    <th>توضیحات</th>\n",
    "  </tr>\n",
    "  <tr>\n",
    "    <td>1</td>\n",
    "    <td>Unnamed: 0</td>\n",
    "    <td>فهرست ردیف </td>\n",
    "  </tr>\n",
    "  <tr>\n",
    "    <td>2</td>\n",
    "    <td>user id</td>\n",
    "    <td>شناسه کاربری (یکتا) </td>\n",
    "  </tr>\n",
    "  <tr>\n",
    "    <td>3</td>\n",
    "    <td>test group</td>\n",
    "    <td>اگر «ad» آن شخص آگهی را دیده است، اگر «psa» فقط آگهی خدمات عمومی را دیده است.</td>\n",
    "  </tr>\n",
    "  <tr>\n",
    "    <td>4</td>\n",
    "    <td>converted</td>\n",
    "    <td>اگر شخصی محصول را خریده باشد، «True» است، غیر آن «False» است </td>\n",
    "  </tr>\n",
    "  <tr>\n",
    "    <td>5</td>\n",
    "    <td>total ads</td>\n",
    "    <td>تعداد تبلیغات مشاهده شده توسط شخص </td>\n",
    "  </tr>\n",
    "  <tr>\n",
    "    <td>6</td>\n",
    "    <td>most ads day</td>\n",
    "    <td>روزی که فرد بیشترین تعداد تبلیغات را دیده است</td>\n",
    "  </tr>\n",
    "  <tr>\n",
    "    <td>7</td>\n",
    "    <td>most ads hour</td>\n",
    "    <td>ساعتی از روز که فرد بیشترین تعداد تبلیغات را دیده است</td>\n",
    "  </tr>\n",
    "</table>\n",
    "\n",
    "</body>\n",
    "</html>\n"
   ]
  },
  {
   "cell_type": "markdown",
   "id": "92119763",
   "metadata": {},
   "source": [
    "<div dir='rtl'  style= \"font-size:110%; margin-right: 20px\">\n",
    "\n",
    "* به طور خلاصه 7 تا ستون و 588101 سطر در مجموعه داده وجود دارد که هر سطر بیانگر یک کاربر است.\n",
    "\n",
    "* 7 ویژگی مختلف وجود دارد که 4تا از آنها نوع عددی 'int' هستند، 2 ویژگی رشته ای 'object' هستند و 1 ویژگی از  نوع 'bool' است.\n",
    "\n",
    "</div>"
   ]
  },
  {
   "cell_type": "code",
   "execution_count": 4,
   "id": "a149a823",
   "metadata": {},
   "outputs": [
    {
     "name": "stdout",
     "output_type": "stream",
     "text": [
      "Is NA?\n",
      "Unnamed: 0       0\n",
      "user id          0\n",
      "test group       0\n",
      "converted        0\n",
      "total ads        0\n",
      "most ads day     0\n",
      "most ads hour    0\n",
      "dtype: int64\n",
      "Is NULL?\n",
      "Unnamed: 0       0\n",
      "user id          0\n",
      "test group       0\n",
      "converted        0\n",
      "total ads        0\n",
      "most ads day     0\n",
      "most ads hour    0\n",
      "dtype: int64\n"
     ]
    }
   ],
   "source": [
    "print(\"Is NA?\")\n",
    "print(df.isna().sum())\n",
    "print(\"Is NULL?\")\n",
    "print(df.isnull().sum())"
   ]
  },
  {
   "cell_type": "markdown",
   "id": "5e561351",
   "metadata": {},
   "source": [
    "<div dir='rtl'  style= \"font-size:110%; margin-right: 20px\">\n",
    "\n",
    "* در مجموعه داده هیچ مقدار تهی و صفر وجود ندارد\n",
    "\n",
    "</div>"
   ]
  },
  {
   "cell_type": "markdown",
   "id": "e2f0e236",
   "metadata": {},
   "source": [
    "# <h1 dir='rtl' style= \"margin-right: 20px ; color:#0f75bd\">5) پیش پردازش</h1>\n",
    "\n",
    "<div dir='rtl'  style= \"font-size:110%; margin-right: 20px\">\n",
    "\n",
    "*  برای راحتی می‌توان نوع ویژگی هدف به عددی تغییر دهیم و همینطور ویژگی اول اطلاعات مهمی وجود ندارد می‌توانیم حذف کنیم\n",
    "\n",
    "</div>"
   ]
  },
  {
   "cell_type": "code",
   "execution_count": 5,
   "id": "749be38a",
   "metadata": {},
   "outputs": [],
   "source": [
    "df.drop('Unnamed: 0', axis=1, inplace=True)\n",
    "df['converted'] = df['converted'].astype(int)  "
   ]
  },
  {
   "cell_type": "code",
   "execution_count": 6,
   "id": "ba380222",
   "metadata": {},
   "outputs": [],
   "source": [
    "# Convert 'id' to object data type\n",
    "df['user id'] = df['user id'].astype(str)"
   ]
  },
  {
   "cell_type": "markdown",
   "id": "741adacf",
   "metadata": {},
   "source": [
    "<div dir='rtl'  style= \"font-size:110%; margin-right: 20px\">\n",
    "\n",
    "*  نام ستون‌های فعلی فضای خالی بین آن‌ها وجود دارد که ممکن است بعداً مشکل ایجاد کند. بنابراین برای راحتی بهتر است فضای خالی نام ستون‌ها به عنوان مثال نام کاربری 'user id' را به فرمت 'user_id' تغییر دهید.\n",
    "\n",
    "</div>"
   ]
  },
  {
   "cell_type": "code",
   "execution_count": 7,
   "id": "56a491d6",
   "metadata": {},
   "outputs": [
    {
     "data": {
      "text/html": [
       "<div>\n",
       "<style scoped>\n",
       "    .dataframe tbody tr th:only-of-type {\n",
       "        vertical-align: middle;\n",
       "    }\n",
       "\n",
       "    .dataframe tbody tr th {\n",
       "        vertical-align: top;\n",
       "    }\n",
       "\n",
       "    .dataframe thead th {\n",
       "        text-align: right;\n",
       "    }\n",
       "</style>\n",
       "<table border=\"1\" class=\"dataframe\">\n",
       "  <thead>\n",
       "    <tr style=\"text-align: right;\">\n",
       "      <th></th>\n",
       "      <th>user_id</th>\n",
       "      <th>test_group</th>\n",
       "      <th>converted</th>\n",
       "      <th>total_ads</th>\n",
       "      <th>most_ads_day</th>\n",
       "      <th>most_ads_hour</th>\n",
       "    </tr>\n",
       "  </thead>\n",
       "  <tbody>\n",
       "    <tr>\n",
       "      <th>0</th>\n",
       "      <td>1069124</td>\n",
       "      <td>ad</td>\n",
       "      <td>0</td>\n",
       "      <td>130</td>\n",
       "      <td>Monday</td>\n",
       "      <td>20</td>\n",
       "    </tr>\n",
       "    <tr>\n",
       "      <th>1</th>\n",
       "      <td>1119715</td>\n",
       "      <td>ad</td>\n",
       "      <td>0</td>\n",
       "      <td>93</td>\n",
       "      <td>Tuesday</td>\n",
       "      <td>22</td>\n",
       "    </tr>\n",
       "    <tr>\n",
       "      <th>2</th>\n",
       "      <td>1144181</td>\n",
       "      <td>ad</td>\n",
       "      <td>0</td>\n",
       "      <td>21</td>\n",
       "      <td>Tuesday</td>\n",
       "      <td>18</td>\n",
       "    </tr>\n",
       "    <tr>\n",
       "      <th>3</th>\n",
       "      <td>1435133</td>\n",
       "      <td>ad</td>\n",
       "      <td>0</td>\n",
       "      <td>355</td>\n",
       "      <td>Tuesday</td>\n",
       "      <td>10</td>\n",
       "    </tr>\n",
       "    <tr>\n",
       "      <th>4</th>\n",
       "      <td>1015700</td>\n",
       "      <td>ad</td>\n",
       "      <td>0</td>\n",
       "      <td>276</td>\n",
       "      <td>Friday</td>\n",
       "      <td>14</td>\n",
       "    </tr>\n",
       "  </tbody>\n",
       "</table>\n",
       "</div>"
      ],
      "text/plain": [
       "   user_id test_group  converted  total_ads most_ads_day  most_ads_hour\n",
       "0  1069124         ad          0        130       Monday             20\n",
       "1  1119715         ad          0         93      Tuesday             22\n",
       "2  1144181         ad          0         21      Tuesday             18\n",
       "3  1435133         ad          0        355      Tuesday             10\n",
       "4  1015700         ad          0        276       Friday             14"
      ]
     },
     "execution_count": 7,
     "metadata": {},
     "output_type": "execute_result"
    }
   ],
   "source": [
    "df.columns = df.columns.str.replace(' ', '_')\n",
    "df.head()"
   ]
  },
  {
   "cell_type": "code",
   "execution_count": 8,
   "id": "d2257bb2",
   "metadata": {},
   "outputs": [
    {
     "name": "stdout",
     "output_type": "stream",
     "text": [
      "Rows            : 588101\n",
      "Columns         : 6\n",
      "Features        : ['user_id', 'test_group', 'converted', 'total_ads', 'most_ads_day', 'most_ads_hour']\n",
      "Missing Values  : 0\n",
      "Duplicate Values  : 0\n",
      "Unique Values   : \n",
      "\n",
      "user_id          588101\n",
      "test_group            2\n",
      "converted             2\n",
      "total_ads           807\n",
      "most_ads_day          7\n",
      "most_ads_hour        24\n",
      "dtype: int64\n"
     ]
    }
   ],
   "source": [
    "print(f'Rows            : {df.shape[0]}')\n",
    "print(f'Columns         : {df.shape[1]}')\n",
    "print(f'Features        : {df.columns.tolist()}')\n",
    "print(f'Missing Values  : {df.isnull().values.sum()}')\n",
    "print(f\"Duplicate Values  : {sum(df['user_id'].duplicated())}\")\n",
    "print(f'Unique Values   : \\n\\n{df.nunique()}')"
   ]
  },
  {
   "cell_type": "code",
   "execution_count": 10,
   "id": "39c11f0c",
   "metadata": {
    "execution": {
     "iopub.execute_input": "2023-08-02T20:42:38.570250Z",
     "iopub.status.busy": "2023-08-02T20:42:38.569890Z",
     "iopub.status.idle": "2023-08-02T20:42:38.768906Z",
     "shell.execute_reply": "2023-08-02T20:42:38.768064Z"
    },
    "papermill": {
     "duration": 0.232394,
     "end_time": "2023-08-02T20:42:38.770895",
     "exception": false,
     "start_time": "2023-08-02T20:42:38.538501",
     "status": "completed"
    },
    "tags": []
   },
   "outputs": [
    {
     "data": {
      "text/html": [
       "<div>\n",
       "<style scoped>\n",
       "    .dataframe tbody tr th:only-of-type {\n",
       "        vertical-align: middle;\n",
       "    }\n",
       "\n",
       "    .dataframe tbody tr th {\n",
       "        vertical-align: top;\n",
       "    }\n",
       "\n",
       "    .dataframe thead th {\n",
       "        text-align: right;\n",
       "    }\n",
       "</style>\n",
       "<table border=\"1\" class=\"dataframe\">\n",
       "  <thead>\n",
       "    <tr style=\"text-align: right;\">\n",
       "      <th></th>\n",
       "      <th>count</th>\n",
       "      <th>mean</th>\n",
       "      <th>std</th>\n",
       "      <th>min</th>\n",
       "      <th>25%</th>\n",
       "      <th>50%</th>\n",
       "      <th>75%</th>\n",
       "      <th>max</th>\n",
       "    </tr>\n",
       "  </thead>\n",
       "  <tbody>\n",
       "    <tr>\n",
       "      <th>converted</th>\n",
       "      <td>588101.0</td>\n",
       "      <td>0.025239</td>\n",
       "      <td>0.156850</td>\n",
       "      <td>0.0</td>\n",
       "      <td>0.0</td>\n",
       "      <td>0.0</td>\n",
       "      <td>0.0</td>\n",
       "      <td>1.0</td>\n",
       "    </tr>\n",
       "    <tr>\n",
       "      <th>total_ads</th>\n",
       "      <td>588101.0</td>\n",
       "      <td>24.820876</td>\n",
       "      <td>43.715181</td>\n",
       "      <td>1.0</td>\n",
       "      <td>4.0</td>\n",
       "      <td>13.0</td>\n",
       "      <td>27.0</td>\n",
       "      <td>2065.0</td>\n",
       "    </tr>\n",
       "    <tr>\n",
       "      <th>most_ads_hour</th>\n",
       "      <td>588101.0</td>\n",
       "      <td>14.469061</td>\n",
       "      <td>4.834634</td>\n",
       "      <td>0.0</td>\n",
       "      <td>11.0</td>\n",
       "      <td>14.0</td>\n",
       "      <td>18.0</td>\n",
       "      <td>23.0</td>\n",
       "    </tr>\n",
       "  </tbody>\n",
       "</table>\n",
       "</div>"
      ],
      "text/plain": [
       "                  count       mean        std  min   25%   50%   75%     max\n",
       "converted      588101.0   0.025239   0.156850  0.0   0.0   0.0   0.0     1.0\n",
       "total_ads      588101.0  24.820876  43.715181  1.0   4.0  13.0  27.0  2065.0\n",
       "most_ads_hour  588101.0  14.469061   4.834634  0.0  11.0  14.0  18.0    23.0"
      ]
     },
     "execution_count": 10,
     "metadata": {},
     "output_type": "execute_result"
    }
   ],
   "source": [
    "# Get the summary statistics for numerical variables\n",
    "df.describe().T"
   ]
  },
  {
   "cell_type": "code",
   "execution_count": 11,
   "id": "b4e44962",
   "metadata": {
    "execution": {
     "iopub.execute_input": "2023-08-02T20:42:39.018174Z",
     "iopub.status.busy": "2023-08-02T20:42:39.017785Z",
     "iopub.status.idle": "2023-08-02T20:42:39.759377Z",
     "shell.execute_reply": "2023-08-02T20:42:39.758269Z"
    },
    "papermill": {
     "duration": 0.777146,
     "end_time": "2023-08-02T20:42:39.761876",
     "exception": false,
     "start_time": "2023-08-02T20:42:38.984730",
     "status": "completed"
    },
    "tags": []
   },
   "outputs": [
    {
     "data": {
      "text/html": [
       "<div>\n",
       "<style scoped>\n",
       "    .dataframe tbody tr th:only-of-type {\n",
       "        vertical-align: middle;\n",
       "    }\n",
       "\n",
       "    .dataframe tbody tr th {\n",
       "        vertical-align: top;\n",
       "    }\n",
       "\n",
       "    .dataframe thead th {\n",
       "        text-align: right;\n",
       "    }\n",
       "</style>\n",
       "<table border=\"1\" class=\"dataframe\">\n",
       "  <thead>\n",
       "    <tr style=\"text-align: right;\">\n",
       "      <th></th>\n",
       "      <th>count</th>\n",
       "      <th>unique</th>\n",
       "      <th>top</th>\n",
       "      <th>freq</th>\n",
       "    </tr>\n",
       "  </thead>\n",
       "  <tbody>\n",
       "    <tr>\n",
       "      <th>user_id</th>\n",
       "      <td>588101</td>\n",
       "      <td>588101</td>\n",
       "      <td>1069124</td>\n",
       "      <td>1</td>\n",
       "    </tr>\n",
       "    <tr>\n",
       "      <th>test_group</th>\n",
       "      <td>588101</td>\n",
       "      <td>2</td>\n",
       "      <td>ad</td>\n",
       "      <td>564577</td>\n",
       "    </tr>\n",
       "    <tr>\n",
       "      <th>most_ads_day</th>\n",
       "      <td>588101</td>\n",
       "      <td>7</td>\n",
       "      <td>Friday</td>\n",
       "      <td>92608</td>\n",
       "    </tr>\n",
       "  </tbody>\n",
       "</table>\n",
       "</div>"
      ],
      "text/plain": [
       "               count  unique      top    freq\n",
       "user_id       588101  588101  1069124       1\n",
       "test_group    588101       2       ad  564577\n",
       "most_ads_day  588101       7   Friday   92608"
      ]
     },
     "execution_count": 11,
     "metadata": {},
     "output_type": "execute_result"
    }
   ],
   "source": [
    "# Get the summary statistics for categorical variables\n",
    "df.describe(include='object').T"
   ]
  },
  {
   "cell_type": "code",
   "execution_count": 12,
   "id": "9d312886",
   "metadata": {},
   "outputs": [
    {
     "name": "stdout",
     "output_type": "stream",
     "text": [
      "test_group\n",
      "ad     564577\n",
      "psa     23524\n",
      "Name: count, dtype: int64\n",
      "----------------------------------------\n",
      "test_group\n",
      "ad     96.000007\n",
      "psa     3.999993\n",
      "Name: proportion, dtype: float64\n",
      "----------------------------------------\n",
      "test_group  converted\n",
      "ad          0            550154\n",
      "            1             14423\n",
      "psa         0             23104\n",
      "            1               420\n",
      "Name: count, dtype: int64\n"
     ]
    }
   ],
   "source": [
    "# count the numbers of different groups of the categorical column\n",
    "print(df['test_group'].value_counts(), end=f\"\\n{'-'*40}\\n\")\n",
    "\n",
    "print(df['test_group'].value_counts(normalize=True)*100, end=f\"\\n{'-'*40}\\n\")\n",
    "\n",
    "# count the True or False of buying products by grouping test_group.\n",
    "print(df.groupby('test_group')['converted'].value_counts())"
   ]
  },
  {
   "cell_type": "markdown",
   "id": "e2792028",
   "metadata": {},
   "source": [
    "<div dir='rtl'  style= \"font-size:110%; margin-right: 20px\">\n",
    "\n",
    "*  واضح است که حجم نمونه تبلیغات ad با 96% بسیار بیشتر از اندازه نمونه psa که تنها 4% از کل کاربران را شامل می‌شود. هنگامی که حجم نمونه گروه آزمایش و گروه کنترل نامتعادل باشد، می تواند مسائل یا ملاحظات خاصی را در تجزیه و تحلیل آماری مطرح کند. برای مثال، دقت تخمین‌ها، مانند میانگین یا نسبت‌ها، می‌تواند تحت تأثیر اندازه‌های نمونه نامتعادل باشد. معمولاً گروهی که حجم نمونه بزرگ‌تری دارد، در مقایسه با گروهی که حجم نمونه کوچک‌تری دارد، تخمین‌های دقیق‌تری خواهد داشت.\n",
    "\n",
    "</div>"
   ]
  },
  {
   "cell_type": "markdown",
   "id": "fb20955f",
   "metadata": {},
   "source": [
    "____"
   ]
  },
  {
   "cell_type": "markdown",
   "id": "97ca624f",
   "metadata": {},
   "source": [
    "# <h1 dir='rtl' style= \"margin-right: 20px ; color:#0f75bd\">6) AB Test</h1>\n",
    "\n",
    "<div dir='rtl'  style= \"font-size:110%; margin-right: 20px\">\n",
    "\n",
    "\n",
    "</div>"
   ]
  },
  {
   "cell_type": "code",
   "execution_count": 13,
   "id": "e6dfb6d5",
   "metadata": {},
   "outputs": [
    {
     "name": "stdout",
     "output_type": "stream",
     "text": [
      "mean coverted = %2.52\n"
     ]
    }
   ],
   "source": [
    "# df['converted'].mean()\n",
    "print(f'mean coverted = %{round(df.converted.mean() * 100,2)}')"
   ]
  },
  {
   "cell_type": "markdown",
   "id": "91b27623",
   "metadata": {},
   "source": [
    "<div dir='rtl'  style= \"font-size:110%; margin-right: 20px\">\n",
    "\n",
    "* بطور میانگین 2.5% از کل کاربران خرید کردند.\n",
    "\n",
    "* ستون \"test_group\" گروه‌های آزمایشی را نشان می‌دهد. آنهایی که «ad» دارند گروه آزمایش هستند که در معرض تبلیغات قرار گرفتند. آنهایی که در گروه «psa» هستند در معرض اعلان خدمات عمومی یا هیچ چیزی در همان مکان قرار گرفتند.\n",
    "\n",
    "* حال بیایید چند عدد را بررسی کنیم. با توجه به اینکه فردی در گروه اول 'ad' و گروه دوم 'psa' دارند، احتمال اینکه خرید کنند چقدر است؟\n",
    "\n",
    "</div>"
   ]
  },
  {
   "cell_type": "code",
   "execution_count": 14,
   "id": "dbedffa9",
   "metadata": {},
   "outputs": [
    {
     "name": "stdout",
     "output_type": "stream",
     "text": [
      "ad = %2.55\n",
      "psa = %1.79\n",
      "difference = %0.77\n"
     ]
    }
   ],
   "source": [
    "# We are summing the purchase values separately for those who saw the ad and those who didn't see the ad.\n",
    "# We assign these to new variables.\n",
    "# psa_converted_count\n",
    "df_ad = df[df['test_group'] == \"ad\"]\n",
    "df_psa = df[df['test_group'] == \"psa\"]\n",
    "\n",
    "# treatment_conv = df_ab.query('group == \"treatment\"')['converted'].mean()\n",
    "print(f\"ad = %{(df_ad['converted'].mean()*100).round(2)}\")\n",
    "# control_conv = df_ab.query('group == \"control\"')['converted'].mean()\n",
    "print(f\"psa = %{(df_psa['converted'].mean()*100).round(2)}\") \n",
    "print(f\"difference = %{(df_ad['converted'].mean()*100 - df_psa['converted'].mean()*100).round(2)}\")\n"
   ]
  },
  {
   "cell_type": "code",
   "execution_count": 15,
   "id": "213e0488",
   "metadata": {},
   "outputs": [
    {
     "data": {
      "text/plain": [
       "Text(0, 0.5, 'Conversion rate')"
      ]
     },
     "execution_count": 15,
     "metadata": {},
     "output_type": "execute_result"
    },
    {
     "data": {
      "image/png": "[encoded data removed]",
      "text/plain": [
       "<Figure size 1500x500 with 1 Axes>"
      ]
     },
     "metadata": {},
     "output_type": "display_data"
    }
   ],
   "source": [
    "plt.figure(figsize=(15,5))\n",
    "ax = sns.barplot(x=df.groupby('test_group')['converted'].mean().index,\n",
    "            y=df.groupby('test_group')['converted'].mean()*100, color='#24b1d1')\n",
    "\n",
    "rects = ax.patches\n",
    "labels = [str(i) + ' %' for i in round(df.groupby('test_group')['converted'].mean()*100, 2)]\n",
    "\n",
    "for rect, label in zip(rects, labels):\n",
    "    height = rect.get_height()\n",
    "    ax.text(\n",
    "        rect.get_x() + rect.get_width() / 2, height, label, ha=\"center\", va=\"bottom\"\n",
    "    )\n",
    "plt.title('Conversion in (different)test groups', va='bottom' )\n",
    "plt.ylabel('Conversion rate')"
   ]
  },
  {
   "cell_type": "markdown",
   "id": "4ccb0ce4",
   "metadata": {},
   "source": [
    "<div dir='rtl'  style= \"font-size:110%; margin-right: 20px\">\n",
    "\n",
    "* کاربرانی که تبلیغات 'ad'مشاهده کردند تنها 2.55% آنها خرید کردند، در مقابل کاربرانی که تبلیغات 'psa' قرار داشتند 1.78% آنها خرید کردند.\n",
    "\n",
    "* از این نرخ‌های تبدیل می‌توان نتیجه گرفت که گروه تبلیغاتی 'ad' نسبت به گروه تبلیغاتی 'psa' به نرخ تبدیل بالاتری دست یافتند. کاربرانی که تبلیغ 'ad' مشاهده کردند به صورت میانگین تقریبا 0.77% بیشتر از کاربرانی است که تبلیغ 'psa' دیدند خرید کردند. این نشان می دهد که تبلیغات در ایجاد تبدیل موفق بوده. به نظر می‌رسد اجرای تبلیغات در بهبود نرخ تبدیل موفقیت آمیز بوده و تاثیر مثبت داشته است.\n",
    "\n",
    "*   با این حال، آیا برای جمعیت بزرگتر واقعی است؟ ما باید ثابت کنیم که این تفاوت از نظر آماری نیز معنادار است تا ادعا کنیم تبلیغات منجر به خرید بیشتر می شود. برای این منظور باید آزمون معنادار آماری (t-test) را بر اساس داده ها انجام دهیم.\n",
    "\n",
    "</div>"
   ]
  },
  {
   "cell_type": "markdown",
   "id": "0c6805fe",
   "metadata": {},
   "source": [
    "# <h1 dir='rtl' style= \"margin-right: 20px ; color:#0f75bd\">7) T-Test</h1>\n",
    "\n",
    "<div dir='rtl'  style= \"font-size:110%; margin-right: 20px\">\n",
    "\n",
    "* فرضیه صفر (H0): فرضیه صفر فرضیه عدم وقوع رویداد است. فرضیه صفر تاثیری بر نتیجه مطالعه ندارد مگر اینکه رد شود.\n",
    "\n",
    "* فرضیه جایگزین (H1): فرضیه جایگزین منطقی مخالف فرضیه صفر است. پذیرش فرضیه جایگزین به دنبال رد فرضیه صفر است.\n",
    "\n",
    "</div>"
   ]
  },
  {
   "cell_type": "code",
   "execution_count": 16,
   "id": "f3890ff6",
   "metadata": {},
   "outputs": [
    {
     "name": "stdout",
     "output_type": "stream",
     "text": [
      "T-statistic: 7.37040597428566\n",
      "P-value: 1.7033052627831264e-13\n",
      "Reject the null hypothesis. There is a significant difference between the two groups.\n"
     ]
    }
   ],
   "source": [
    "treatment = df[df['test_group'] == \"ad\"]\n",
    "control = df[df['test_group'] == \"psa\"]\n",
    "def t_test(treatment_data, control_data) :\n",
    "    \n",
    "    t_statistic, p_value = stats.ttest_ind(treatment_data, control_data)\n",
    "    print(\"T-statistic:\", t_statistic)\n",
    "    print(\"P-value:\", p_value)\n",
    "    \n",
    "    if p_value < 0.05 :    \n",
    "        print( 'Reject the null hypothesis. There is a significant difference between the two groups.')\n",
    "    else:\n",
    "        print( 'Fail to reject the null hypothesis. There is no significant difference between the two groups.')\n",
    "\n",
    "    return t_statistic, p_value\n",
    "    \n",
    "\n",
    "# Perform a t-test to compare the means of the two groups\n",
    "t_statistic, p_value = t_test(treatment[\"converted\"], control[\"converted\"])"
   ]
  },
  {
   "cell_type": "markdown",
   "id": "5b7c504a",
   "metadata": {},
   "source": [
    "<div dir='rtl'  style= \"font-size:110%; margin-right: 20px\">\n",
    "\n",
    "* p-Value ما نزدیک به 0 است یعنی تفاوت آماری بین دو گروه وجود دارد که شواهد خوبی برای رد فرضیه صفر وجود دارد.\n",
    "آستانه در نظر گرفته شده برای رد تصادفی بودن معمولا کمتر از 0.05 است. به این معنی که بسیار بعید است که به طور تصادفی رخ داده باشد. این شواهد قوی برای تفاوت مشاهده شده بین دو گروه ارائه می دهد.\n",
    "\n",
    "* علاوه بر این، مقدار آماری 8.65 نشان دهنده آمار برای آزمون t است. آزمون t نشان می‌دهد که میانگین عملکرد تبلیغاتی برای این دو گروه به طور قابل توجهی متفاوت معنی دار است و تبلیغات گروه اول بهتر از تبلیغات گروه دوم هستند.\n",
    "\n",
    "* در مجموع، این نتایج نشان می‌دهد که تفاوت معنی‌داری بین میانگین‌های دو گروه مورد مقایسه وجود دارد و بعید است که این تفاوت به‌طور تصادفی رخ داده باشد.\n",
    "\n",
    "</div>"
   ]
  },
  {
   "cell_type": "markdown",
   "id": "e3a55b89",
   "metadata": {},
   "source": [
    "# <h1 dir='rtl' style= \"margin-right: 20px ; color:#0f75bd\">8) Chi-square</h1>\n",
    "\n",
    "<div dir='rtl'  style= \"font-size:110%; margin-right: 20px\">\n",
    "\n",
    "* آزمون Chi-Square یک روش آماری برای تعیین تفاوت بین داده های مشاهده شده و مورد انتظار است. این آزمون همچنین می تواند برای تعیین اینکه آیا با متغیرهای طبقه بندی شده در داده های ما همبستگی دارد یا خیر استفاده می شود. این کمک می کند تا بفهمیم که آیا تفاوت بین دو متغیر طبقه بندی به دلیل شانس است یا رابطه بین آنها. در نتیجه، آزمون Chi-Square یک انتخاب ایده آل برای کمک به درک و تفسیر ما از ارتباط بین دو متغیر طبقه بندی شده است.\n",
    "\n",
    "</div>"
   ]
  },
  {
   "cell_type": "code",
   "execution_count": 17,
   "id": "a91cc618",
   "metadata": {},
   "outputs": [
    {
     "data": {
      "text/html": [
       "<div>\n",
       "<style scoped>\n",
       "    .dataframe tbody tr th:only-of-type {\n",
       "        vertical-align: middle;\n",
       "    }\n",
       "\n",
       "    .dataframe tbody tr th {\n",
       "        vertical-align: top;\n",
       "    }\n",
       "\n",
       "    .dataframe thead th {\n",
       "        text-align: right;\n",
       "    }\n",
       "</style>\n",
       "<table border=\"1\" class=\"dataframe\">\n",
       "  <thead>\n",
       "    <tr style=\"text-align: right;\">\n",
       "      <th>test_group</th>\n",
       "      <th>ad</th>\n",
       "      <th>psa</th>\n",
       "      <th>All</th>\n",
       "    </tr>\n",
       "    <tr>\n",
       "      <th>converted</th>\n",
       "      <th></th>\n",
       "      <th></th>\n",
       "      <th></th>\n",
       "    </tr>\n",
       "  </thead>\n",
       "  <tbody>\n",
       "    <tr>\n",
       "      <th>0</th>\n",
       "      <td>550154</td>\n",
       "      <td>23104</td>\n",
       "      <td>573258</td>\n",
       "    </tr>\n",
       "    <tr>\n",
       "      <th>1</th>\n",
       "      <td>14423</td>\n",
       "      <td>420</td>\n",
       "      <td>14843</td>\n",
       "    </tr>\n",
       "    <tr>\n",
       "      <th>All</th>\n",
       "      <td>564577</td>\n",
       "      <td>23524</td>\n",
       "      <td>588101</td>\n",
       "    </tr>\n",
       "  </tbody>\n",
       "</table>\n",
       "</div>"
      ],
      "text/plain": [
       "test_group      ad    psa     All\n",
       "converted                        \n",
       "0           550154  23104  573258\n",
       "1            14423    420   14843\n",
       "All         564577  23524  588101"
      ]
     },
     "execution_count": 17,
     "metadata": {},
     "output_type": "execute_result"
    }
   ],
   "source": [
    "ct = pd.crosstab(df['converted'], df['test_group'], margins=True)\n",
    "ct"
   ]
  },
  {
   "cell_type": "code",
   "execution_count": 18,
   "id": "9823f07b",
   "metadata": {},
   "outputs": [],
   "source": [
    "d = np.array([ct.iloc[0][: -1].values, ct.iloc[1][: -1].values])\n",
    "d\n",
    "obs = np.append(ct.iloc[0][: -1].values, ct.iloc[1][: -1].values)\n",
    "row_sum = ct.iloc[0: 2, 2].values"
   ]
  },
  {
   "cell_type": "code",
   "execution_count": 19,
   "id": "ff0a58d0",
   "metadata": {},
   "outputs": [
    {
     "name": "stdout",
     "output_type": "stream",
     "text": [
      "564577  *  573258  /  588101  =  550327.7189904455\n",
      "23524  *  573258  /  588101  =  22930.28100955448\n",
      "564577  *  14843  /  588101  =  14249.281009554481\n",
      "23524  *  14843  /  588101  =  593.7189904455187\n"
     ]
    }
   ],
   "source": [
    "exp = []\n",
    "for j in range(2):\n",
    "    for val in ct.iloc[2, : -1].values:\n",
    "        print(val, ' * ', row_sum[j], ' / ', ct.loc['All', 'All'], ' = ', val * row_sum[j] / ct.loc['All', 'All'])\n",
    "        exp.append(val * row_sum[j] / ct.loc['All', 'All'])"
   ]
  },
  {
   "cell_type": "code",
   "execution_count": 20,
   "id": "1e2a6220",
   "metadata": {},
   "outputs": [],
   "source": [
    "chi2 = ((obs - exp) ** 2 / exp).sum()"
   ]
  },
  {
   "cell_type": "markdown",
   "id": "63dd5032",
   "metadata": {},
   "source": [
    "<div dir='rtl'  style= \"font-size:110%; margin-right: 20px\">\n",
    "\n",
    "* هر چه اختلاف بین مشاهدات و انتظارات (O - E در معادله) بزرگتر باشد، chi2 بزرگتر خواهد بود. برای تصمیم گیری در مورد اینکه آیا این تفاوت به اندازه کافی بزرگ است که از نظر آماری معنی دار باشد، مقدار chi2 را با یک مقدار آستانه مقایسه می کنید تا مشخص شود کدام بزرگتر است. تصمیم بگیرید که آیا فرضیه صفر را رد کنید یا خیر. اگر مقدار chi2 بزرگتر از مقدار آستانه باشد، باید فرضیه صفر را رد کنید. اگر فرضیه صفر را رد کنید، می توانید نتیجه بگیرید که داده های شما به طور قابل توجهی با آنچه انتظار داشتید متفاوت است.\n",
    "\n",
    "* فرضیه صفر (H0): نسبت افرادی که تبلیغات 'ad'  مشاهده کردند با نسبت افرادی که تبلیغات 'psa' دیدند یکسان است.\n",
    "\n",
    "* فرضیه جایگزین (HA): نسبت افرادی که تبلیغات 'ad'  مشاهده کردند با نسبت افرادی که تبلیغات 'psa' دیدند متفاوت است.\n",
    "\n",
    "</div>"
   ]
  },
  {
   "cell_type": "code",
   "execution_count": 21,
   "id": "949efb91",
   "metadata": {},
   "outputs": [
    {
     "name": "stdout",
     "output_type": "stream",
     "text": [
      "Chi-square statistic: 54.318051591383124\n",
      "P-value: 4.5144265218984724e-11\n",
      "Degrees of freedom: 4\n",
      "Expected frequencies:\n",
      "[[550327.71899045  22930.28100955 573258.        ]\n",
      " [ 14249.28100955    593.71899045  14843.        ]\n",
      " [564577.          23524.         588101.        ]]\n",
      "Reject the null hypothesis. There is a significant difference between the two groups.\n"
     ]
    }
   ],
   "source": [
    "chi2, p_value, dof, expected  =stats.chi2_contingency(ct)\n",
    "\n",
    "# Print the results\n",
    "print(\"Chi-square statistic:\", chi2)\n",
    "print(\"P-value:\", p_value)\n",
    "print(\"Degrees of freedom:\", dof)\n",
    "print(\"Expected frequencies:\")\n",
    "print(expected)\n",
    "\n",
    "if p_value < 0.05:\n",
    "    print ( 'Reject the null hypothesis. There is a significant difference between the two groups.')\n",
    "else:\n",
    "    print ('Fail to reject the null hypothesis. There is no significant difference between the two groups.')"
   ]
  },
  {
   "cell_type": "markdown",
   "id": "ea51076a",
   "metadata": {},
   "source": [
    "<div dir='rtl'  style= \"font-size:110%; margin-right: 20px\">\n",
    "\n",
    "* آمار Chi-square با مقدار 54.32  بالا است، که نشان دهنده ارتباط قوی بین گروه ها و نتایج تبدیل است. مقدار p بسیار پایین است، به این معنی که توزیع تبدیل ها بین گروه ها بسیار بعید است که تصادفی رخ داده باشد.\n",
    "\n",
    "*  مقدار معناداری آزمون P-value کمتر از ۰/۰۵ به‌دست آمده است، می‌توانیم نتیجه بگیریم که بین تبلیغات دو گروه تفاوت معناداری وجود دارد.\n",
    "\n",
    "</div>"
   ]
  },
  {
   "cell_type": "markdown",
   "id": "85624b26",
   "metadata": {},
   "source": [
    "____"
   ]
  },
  {
   "cell_type": "markdown",
   "id": "9b08e20e",
   "metadata": {},
   "source": [
    "# <h1 dir='rtl' style= \"margin-right: 20px ; color:#0f75bd\">9) تحلیل اکتشافی داده‌ها (EDA)</h1>\n",
    "\n",
    "<div dir='rtl'  style= \"font-size:110%; margin-right: 20px\">\n",
    "\n",
    "</div>"
   ]
  },
  {
   "cell_type": "code",
   "execution_count": 22,
   "id": "c5af1fd1",
   "metadata": {},
   "outputs": [
    {
     "data": {
      "image/png": "[encoded data removed]",
      "text/plain": [
       "<Figure size 1500x500 with 1 Axes>"
      ]
     },
     "metadata": {},
     "output_type": "display_data"
    }
   ],
   "source": [
    "plt.figure(figsize=(15,5))\n",
    "sns.countplot(data=df, x= df['most_ads_hour'], color='#24b1d1')\n",
    "plt.title('most ads hour')\n",
    "plt.show()"
   ]
  },
  {
   "cell_type": "code",
   "execution_count": 23,
   "id": "cafe53ae",
   "metadata": {},
   "outputs": [
    {
     "data": {
      "image/png": "[encoded data removed]",
      "text/plain": [
       "<Figure size 1500x500 with 1 Axes>"
      ]
     },
     "metadata": {},
     "output_type": "display_data"
    }
   ],
   "source": [
    "# print(df.groupby(\"most ads hour\")[\"converted\"].sum())\n",
    "colors = ['#24b1d1', '#ffca08']\n",
    "ax = df.groupby(by =['most_ads_hour', 'test_group'])['converted'].sum().unstack('test_group').plot(kind= 'bar', figsize= (15,5), grid= True, color=colors)\n",
    "ax.set_ylabel('converted')\n",
    "ax.set_title('Most ad days and converted')\n",
    "plt.show()"
   ]
  },
  {
   "cell_type": "markdown",
   "id": "8562260e",
   "metadata": {},
   "source": [
    "<div dir='rtl'  style= \"font-size:110%; margin-right: 20px\">\n",
    "\n",
    "* با توجه به نمودار نمایش داده شده در ساعات ظهر (10 الی 15) کاربران بیشترین تبلیغات نسبت به ساعات پایان شب مشاهده کردند.\n",
    "\n",
    "</div>"
   ]
  },
  {
   "cell_type": "markdown",
   "id": "10070878",
   "metadata": {},
   "source": [
    "______"
   ]
  },
  {
   "cell_type": "code",
   "execution_count": 29,
   "id": "7d3cc1ea",
   "metadata": {},
   "outputs": [
    {
     "data": {
      "image/png": "[encoded data removed]",
      "text/plain": [
       "<Figure size 1500x500 with 1 Axes>"
      ]
     },
     "metadata": {},
     "output_type": "display_data"
    }
   ],
   "source": [
    "plt.figure(figsize=(15,5))\n",
    "counts = df['most_ads_day'].value_counts()\n",
    "counts.plot(kind='bar', color='#24b1d1', edgecolor='white')\n",
    "plt.title('most ads day', fontsize=15)\n",
    "plt.ylabel('Count', fontsize=12)\n",
    "for i, v in enumerate(counts):\n",
    "    plt.text(i, v, str(v), fontsize=8, ha='center', va='bottom')\n",
    "plt.show()"
   ]
  },
  {
   "cell_type": "markdown",
   "id": "bc506cfd",
   "metadata": {},
   "source": [
    "<div dir='rtl'  style= \"font-size:110%; margin-right: 20px\">\n",
    "\n",
    "* بیشترین تبلیغات مشاهده شده توسط کاربران در روز جمعه و سپس دوشنبه رخ داده است\n",
    "\n",
    "</div>"
   ]
  },
  {
   "cell_type": "code",
   "execution_count": 25,
   "id": "0e8b320f",
   "metadata": {},
   "outputs": [
    {
     "data": {
      "text/plain": [
       "<matplotlib.legend.Legend at 0x24d28e991d0>"
      ]
     },
     "execution_count": 25,
     "metadata": {},
     "output_type": "execute_result"
    },
    {
     "data": {
      "image/png": "[encoded data removed]",
      "text/plain": [
       "<Figure size 1500x500 with 1 Axes>"
      ]
     },
     "metadata": {},
     "output_type": "display_data"
    }
   ],
   "source": [
    "day_converted = df.groupby(['most_ads_day', 'test_group'])['converted'].sum().unstack()\n",
    "\n",
    "fig, ax = plt.subplots(figsize= (15,5))\n",
    "\n",
    "colors = ['#24b1d1', '#ffca08']\n",
    "bottom = np.zeros(len(day_converted))\n",
    "\n",
    "for i, col in enumerate(day_converted.columns):\n",
    "  ax.bar(\n",
    "      day_converted.index, day_converted[col], bottom=bottom, label=col, color=colors[i], width=.6)\n",
    "  bottom += np.array(day_converted[col])\n",
    "\n",
    "totals = day_converted.sum(axis=1)\n",
    "y_offset = 40\n",
    "for i, total in enumerate(totals):\n",
    "  ax.text(totals.index[i], total + y_offset, round(total), ha='center', fontsize=11)\n",
    "\n",
    "y_offset = -10\n",
    "\n",
    "for bar in ax.patches:\n",
    "  ax.text(bar.get_x() + 4.2*bar.get_width()/4,\n",
    "      bar.get_height() / 2 + bar.get_y()+ y_offset,\n",
    "      round(bar.get_height()),\n",
    "      color='k', size=10\n",
    "  )\n",
    "\n",
    "ax.set_title('Most ad days and converted')\n",
    "ax.set_ylabel('converted')\n",
    "ax.set_xlabel('most_ads_day')\n",
    "ax.legend()"
   ]
  },
  {
   "cell_type": "markdown",
   "id": "da845a0a",
   "metadata": {},
   "source": [
    "<div dir='rtl'  style= \"font-size:110%; margin-right: 20px\">\n",
    "\n",
    "*   در بین روزهای هفته کاربران گروه آزمایش که خرید کردند بیشترین خرید مربوط به روز دوشنبه (2778) و سه شنبه (2270) و بین کاربران گروه کنترل بیشترین خرید مربوط به روز دوشنبه (79) و پنجشنبه (79) است.\n",
    "\n",
    "</div>"
   ]
  },
  {
   "cell_type": "code",
   "execution_count": 41,
   "id": "ab4d0f52",
   "metadata": {},
   "outputs": [
    {
     "data": {
      "image/png": "[encoded data removed]",
      "text/plain": [
       "<Figure size 1500x500 with 1 Axes>"
      ]
     },
     "metadata": {},
     "output_type": "display_data"
    }
   ],
   "source": [
    "\n",
    "plt.figure(figsize=(15,5))\n",
    "counts, bins, patches = plt.hist(df['total_ads'], bins=20, color='#24b1d1', edgecolor='white')\n",
    "plt.title('total_ads', fontsize=15)\n",
    "plt.xlabel('total_ads', fontsize=12)\n",
    "plt.ylabel('Frequency', fontsize=12)\n",
    "# Add text annotation for frequencies\n",
    "bin_centers = 0.5 * (bins[:-1] + bins[1:])\n",
    "for count, x in zip(counts, bin_centers):\n",
    "    if count > 0:\n",
    "        plt.text(x, count, str(int(count)), fontsize=8, ha='center', va='bottom')\n",
    "plt.show()"
   ]
  }
 ],
 "metadata": {
  "kernelspec": {
   "display_name": "Python 3 (ipykernel)",
   "language": "python",
   "name": "python3"
  },
  "language_info": {
   "codemirror_mode": {
    "name": "ipython",
    "version": 3
   },
   "file_extension": ".py",
   "mimetype": "text/x-python",
   "name": "python",
   "nbconvert_exporter": "python",
   "pygments_lexer": "ipython3",
   "version": "3.11.4"
  },
  "papermill": {
   "default_parameters": {},
   "duration": 127.95373,
   "end_time": "2023-08-02T20:44:31.235317",
   "environment_variables": {},
   "exception": null,
   "input_path": "__notebook__.ipynb",
   "output_path": "__notebook__.ipynb",
   "parameters": {},
   "start_time": "2023-08-02T20:42:23.281587",
   "version": "2.4.0"
  }
 },
 "nbformat": 4,
 "nbformat_minor": 5
}
